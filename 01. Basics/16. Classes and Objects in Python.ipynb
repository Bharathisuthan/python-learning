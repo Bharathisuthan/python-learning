{
 "cells": [
  {
   "cell_type": "code",
   "execution_count": 1,
   "metadata": {},
   "outputs": [
    {
     "data": {
      "text/plain": [
       "50"
      ]
     },
     "execution_count": 1,
     "metadata": {},
     "output_type": "execute_result"
    }
   ],
   "source": [
    "class NewClass:\n",
    "    x = 50\n",
    "\n",
    "NewClass.x"
   ]
  },
  {
   "cell_type": "code",
   "execution_count": 3,
   "metadata": {},
   "outputs": [
    {
     "name": "stdout",
     "output_type": "stream",
     "text": [
      "100\n"
     ]
    }
   ],
   "source": [
    "# Create Class\n",
    "class NewClass1:\n",
    "    x = 100\n",
    "\n",
    "# Create Object\n",
    "r = NewClass1()\n",
    "print(r.x)"
   ]
  },
  {
   "cell_type": "code",
   "execution_count": 4,
   "metadata": {},
   "outputs": [
    {
     "name": "stdout",
     "output_type": "stream",
     "text": [
      "10 Anderson\n"
     ]
    }
   ],
   "source": [
    "class Student:\n",
    "    id = 10\n",
    "    name = \"Anderson\"\n",
    "\n",
    "    def display(self):\n",
    "        print(self.id, self.name)\n",
    "\n",
    "s = Student()\n",
    "s.display()"
   ]
  },
  {
   "cell_type": "code",
   "execution_count": 7,
   "metadata": {},
   "outputs": [
    {
     "name": "stdout",
     "output_type": "stream",
     "text": [
      "14\n",
      "<function Student.welcome at 0x000001AAED0D8FE0>\n",
      "This is a Student Class\n"
     ]
    }
   ],
   "source": [
    "class Student:\n",
    "    \"This is a Student Class\"\n",
    "    age = 14\n",
    "    def welcome(self):\n",
    "        print('Hi, Welcome to Section B')\n",
    "\n",
    "print(Student.age)\n",
    "print(Student.welcome)\n",
    "print(Student.__doc__)"
   ]
  },
  {
   "cell_type": "code",
   "execution_count": 11,
   "metadata": {},
   "outputs": [
    {
     "name": "stdout",
     "output_type": "stream",
     "text": [
      "Harry\n",
      "29-10-1992\n",
      "Welcome Harry\n",
      "Welcome Virat\n"
     ]
    }
   ],
   "source": [
    "# Init Function\n",
    "class Student:\n",
    "    def __init__(self, name, dob):\n",
    "        self.name = name\n",
    "        self.dob = dob\n",
    "    def welcome(self):\n",
    "        print(\"Welcome\", self.name)\n",
    "s1 = Student(\"Harry\", \"29-10-1992\")\n",
    "print(s1.name)\n",
    "print(s1.dob)\n",
    "s1.welcome()\n",
    "\n",
    "# Modify Objects\n",
    "s1.name = \"Virat\"\n",
    "s1.welcome()"
   ]
  },
  {
   "cell_type": "code",
   "execution_count": 12,
   "metadata": {},
   "outputs": [
    {
     "ename": "AttributeError",
     "evalue": "'Student' object has no attribute 'name'",
     "output_type": "error",
     "traceback": [
      "\u001b[1;31m---------------------------------------------------------------------------\u001b[0m",
      "\u001b[1;31mAttributeError\u001b[0m                            Traceback (most recent call last)",
      "Cell \u001b[1;32mIn[12], line 2\u001b[0m\n\u001b[0;32m      1\u001b[0m \u001b[39mdel\u001b[39;00m s1\u001b[39m.\u001b[39mname\n\u001b[1;32m----> 2\u001b[0m \u001b[39mprint\u001b[39m(s1\u001b[39m.\u001b[39;49mname)\n",
      "\u001b[1;31mAttributeError\u001b[0m: 'Student' object has no attribute 'name'"
     ]
    }
   ],
   "source": [
    "\n",
    "del s1.name\n",
    "print(s1.name)"
   ]
  },
  {
   "cell_type": "code",
   "execution_count": 13,
   "metadata": {},
   "outputs": [
    {
     "name": "stdout",
     "output_type": "stream",
     "text": [
      "29-10-1992\n"
     ]
    }
   ],
   "source": [
    "print(s1.dob)"
   ]
  },
  {
   "cell_type": "code",
   "execution_count": 14,
   "metadata": {},
   "outputs": [
    {
     "ename": "NameError",
     "evalue": "name 's1' is not defined",
     "output_type": "error",
     "traceback": [
      "\u001b[1;31m---------------------------------------------------------------------------\u001b[0m",
      "\u001b[1;31mNameError\u001b[0m                                 Traceback (most recent call last)",
      "Cell \u001b[1;32mIn[14], line 2\u001b[0m\n\u001b[0;32m      1\u001b[0m \u001b[39mdel\u001b[39;00m s1\n\u001b[1;32m----> 2\u001b[0m s1\u001b[39m.\u001b[39mdob\n",
      "\u001b[1;31mNameError\u001b[0m: name 's1' is not defined"
     ]
    }
   ],
   "source": [
    "del s1\n",
    "s1.dob"
   ]
  },
  {
   "cell_type": "code",
   "execution_count": 15,
   "metadata": {},
   "outputs": [
    {
     "name": "stdout",
     "output_type": "stream",
     "text": [
      "Hi, My name is Puppy\n"
     ]
    }
   ],
   "source": [
    "class Animal:\n",
    "    def __init__(self, name):\n",
    "        self.name = name\n",
    "\n",
    "    def greet(self):\n",
    "        print(\"Hi, My name is\", self.name)\n",
    "\n",
    "a1 = Animal('Puppy')\n",
    "a1.greet()"
   ]
  },
  {
   "cell_type": "code",
   "execution_count": null,
   "metadata": {},
   "outputs": [],
   "source": []
  }
 ],
 "metadata": {
  "kernelspec": {
   "display_name": "Python 3",
   "language": "python",
   "name": "python3"
  },
  "language_info": {
   "codemirror_mode": {
    "name": "ipython",
    "version": 3
   },
   "file_extension": ".py",
   "mimetype": "text/x-python",
   "name": "python",
   "nbconvert_exporter": "python",
   "pygments_lexer": "ipython3",
   "version": "3.11.2"
  },
  "orig_nbformat": 4
 },
 "nbformat": 4,
 "nbformat_minor": 2
}
