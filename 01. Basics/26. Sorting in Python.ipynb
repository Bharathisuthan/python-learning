{
 "cells": [
  {
   "cell_type": "code",
   "execution_count": 1,
   "metadata": {},
   "outputs": [
    {
     "name": "stdout",
     "output_type": "stream",
     "text": [
      "[12, 15, 27, 33, 62]\n"
     ]
    }
   ],
   "source": [
    "L1 = [12, 33, 27, 15, 62]\n",
    "L1.sort()\n",
    "print(L1)\n"
   ]
  },
  {
   "cell_type": "code",
   "execution_count": 2,
   "metadata": {},
   "outputs": [
    {
     "name": "stdout",
     "output_type": "stream",
     "text": [
      "[62, 33, 27, 15, 12]\n"
     ]
    }
   ],
   "source": [
    "L1 = [12, 33, 27, 15, 62]\n",
    "L1.sort(reverse=True)\n",
    "print(L1)\n"
   ]
  },
  {
   "attachments": {},
   "cell_type": "markdown",
   "metadata": {},
   "source": [
    "# Bubble Sort"
   ]
  },
  {
   "cell_type": "code",
   "execution_count": 7,
   "metadata": {},
   "outputs": [
    {
     "name": "stdout",
     "output_type": "stream",
     "text": [
      "j 0\n",
      "j+1 1\n",
      "[9, 8, 6, 4]\n",
      "j 1\n",
      "j+1 2\n",
      "[9, 8, 6, 4]\n",
      "j 2\n",
      "j+1 3\n",
      "[9, 8, 6, 4]\n",
      "j 0\n",
      "j+1 1\n",
      "[9, 8, 6, 4]\n",
      "j 1\n",
      "j+1 2\n",
      "[9, 8, 6, 4]\n",
      "j 0\n",
      "j+1 1\n",
      "[9, 8, 6, 4]\n",
      "Sorted Array\n",
      "[9, 8, 6, 4]\n"
     ]
    }
   ],
   "source": [
    "def bubbleSort(elements):\n",
    "    n = len(elements)\n",
    "    for i in range(n):\n",
    "        for j in range(0, n - i - 1):\n",
    "            print(\"j\", j)\n",
    "            print(\"j+1\", j+1)\n",
    "            print(elements)\n",
    "            # if elements[j] > elements[j+1]:\n",
    "            #     elements[j], elements[j+1] = elements[j+1], elements[j]\n",
    "            #     print(elements)\n",
    "\n",
    "\n",
    "elements = [9, 8, 6, 4]\n",
    "bubbleSort(elements)\n",
    "\n",
    "print(\"Sorted Array\")\n",
    "print(elements)\n"
   ]
  },
  {
   "attachments": {},
   "cell_type": "markdown",
   "metadata": {},
   "source": [
    "# Insertion Sort"
   ]
  },
  {
   "cell_type": "code",
   "execution_count": 3,
   "metadata": {},
   "outputs": [
    {
     "name": "stdout",
     "output_type": "stream",
     "text": [
      "for [8, 4, 6, 9, 15, 12, 2, 11]\n",
      "b 1\n",
      "b 1\n",
      "While [4, 8, 6, 9, 15, 12, 2, 11]\n",
      "b 0\n",
      "for [4, 8, 6, 9, 15, 12, 2, 11]\n",
      "b 2\n",
      "b 2\n",
      "While [4, 6, 8, 9, 15, 12, 2, 11]\n",
      "b 1\n",
      "for [4, 6, 8, 9, 15, 12, 2, 11]\n",
      "b 3\n",
      "for [4, 6, 8, 9, 15, 12, 2, 11]\n",
      "b 4\n",
      "for [4, 6, 8, 9, 15, 12, 2, 11]\n",
      "b 5\n",
      "b 5\n",
      "While [4, 6, 8, 9, 12, 15, 2, 11]\n",
      "b 4\n",
      "for [4, 6, 8, 9, 12, 15, 2, 11]\n",
      "b 6\n",
      "b 6\n",
      "While [4, 6, 8, 9, 12, 2, 15, 11]\n",
      "b 5\n",
      "b 5\n",
      "While [4, 6, 8, 9, 2, 12, 15, 11]\n",
      "b 4\n",
      "b 4\n",
      "While [4, 6, 8, 2, 9, 12, 15, 11]\n",
      "b 3\n",
      "b 3\n",
      "While [4, 6, 2, 8, 9, 12, 15, 11]\n",
      "b 2\n",
      "b 2\n",
      "While [4, 2, 6, 8, 9, 12, 15, 11]\n",
      "b 1\n",
      "b 1\n",
      "While [2, 4, 6, 8, 9, 12, 15, 11]\n",
      "b 0\n",
      "for [2, 4, 6, 8, 9, 12, 15, 11]\n",
      "b 7\n",
      "b 7\n",
      "While [2, 4, 6, 8, 9, 12, 11, 15]\n",
      "b 6\n",
      "b 6\n",
      "While [2, 4, 6, 8, 9, 11, 12, 15]\n",
      "b 5\n"
     ]
    }
   ],
   "source": [
    "def insertionSort(array):\n",
    "    for a in range(1, len(array)):\n",
    "        b = a\n",
    "        print(\"for\", array)\n",
    "        print(\"b\", b)\n",
    "        while b > 0 and array[b] < array[b-1]:\n",
    "            print(\"b\", b)\n",
    "            array[b-1], array[b] = array[b], array[b-1]\n",
    "            b -= 1\n",
    "            print(\"While\", array)\n",
    "            print(\"b\", b)\n",
    "\n",
    "\n",
    "array = [8, 4, 6, 9, 15, 12, 2, 11]\n",
    "insertionSort(array)\n"
   ]
  },
  {
   "attachments": {},
   "cell_type": "markdown",
   "metadata": {},
   "source": [
    "# Merge Sort"
   ]
  },
  {
   "cell_type": "code",
   "execution_count": 30,
   "metadata": {},
   "outputs": [
    {
     "name": "stdout",
     "output_type": "stream",
     "text": [
      "left: [8, 4] right: [9, 6]\n",
      "left: [8] right: [4]\n",
      "[4, 8]\n",
      "left: [9] right: [6]\n",
      "[6, 9]\n",
      "[4, 6, 8, 9]\n"
     ]
    }
   ],
   "source": [
    "def mergeSort(list):\n",
    "    if len(list) > 1:\n",
    "        mid = len(list) // 2\n",
    "        left = list[:mid]\n",
    "        right = list[mid:]\n",
    "\n",
    "        print(\"left:\", left, \"right:\", right)\n",
    "        #  Recursive call on each half\n",
    "        mergeSort(left)\n",
    "        mergeSort(right)\n",
    "\n",
    "        # Two Iterators for traversing two halves\n",
    "        i = 0\n",
    "        j = 0\n",
    "\n",
    "        # Iterator for the main list\n",
    "        k = 0\n",
    "\n",
    "        while i < len(left) and j < len(right):\n",
    "            if left[i] <= right[j]:\n",
    "                # The value from the left half has been used\n",
    "                list[k] = left[i]\n",
    "                # Move the iterator forward\n",
    "                i += 1\n",
    "            else:\n",
    "                list[k] = right[j]\n",
    "                j += 1\n",
    "\n",
    "            # Move to Next Slot\n",
    "            k += 1\n",
    "\n",
    "        # print(list)\n",
    "        # For All Remaining Values\n",
    "        while i < len(left):\n",
    "            list[k] = left[i]\n",
    "            i += 1\n",
    "            k += 1\n",
    "\n",
    "        while j < len(right):\n",
    "            list[k] = right[j]\n",
    "            j += 1\n",
    "            k += 1\n",
    "\n",
    "        print(list)\n",
    "\n",
    "\n",
    "myList = [8, 4, 9, 6]\n",
    "mergeSort(myList)\n"
   ]
  },
  {
   "attachments": {},
   "cell_type": "markdown",
   "metadata": {},
   "source": [
    "# Quick Sort"
   ]
  },
  {
   "cell_type": "code",
   "execution_count": 2,
   "metadata": {},
   "outputs": [
    {
     "name": "stdout",
     "output_type": "stream",
     "text": [
      "pivot 34\n",
      "j 3 array[j] 17\n",
      "[17, 21, 8, 40, 51, 34]\n",
      "i 1 array[i] 21\n",
      "i 2 array[i] 8\n",
      "i 3 array[i] 40\n",
      "j 2 array[j] 8\n",
      "[17, 21, 8, 34, 51, 40]\n",
      "pivot 8\n",
      "j 0 array[j] 17\n",
      "[8, 21, 17, 34, 51, 40]\n",
      "pivot 17\n",
      "[8, 17, 21, 34, 51, 40]\n",
      "pivot 40\n",
      "[8, 17, 21, 34, 40, 51]\n"
     ]
    }
   ],
   "source": [
    "def quickSort(array, left, right):\n",
    "    if left < right:\n",
    "        pi = partition(array, left, right)\n",
    "\n",
    "        quickSort(array, left, pi - 1)\n",
    "        quickSort(array, pi + 1, right)\n",
    "\n",
    "\n",
    "def partition(array, left, right):\n",
    "    i = left\n",
    "    j = right - 1\n",
    "    pivot = array[right]\n",
    "    print('pivot', pivot)\n",
    "\n",
    "    while i < j:\n",
    "        while i < right and array[i] < pivot:\n",
    "            i += 1\n",
    "            print('i', i, 'array[i]', array[i])\n",
    "        while j > left and array[j] >= pivot:\n",
    "            j -= 1\n",
    "            print('j', j, 'array[j]', array[j])\n",
    "        if i < j:\n",
    "            array[i], array[j] = array[j], array[i]\n",
    "            print(array)\n",
    "\n",
    "    if array[i] > pivot:\n",
    "        array[i], array[right] = array[right], array[i]\n",
    "        print(array)\n",
    "    return i\n",
    "\n",
    "\n",
    "data = [40, 21, 8, 17, 51, 34]\n",
    "\n",
    "quickSort(data, 0, len(data) - 1)\n"
   ]
  }
 ],
 "metadata": {
  "kernelspec": {
   "display_name": "Python 3",
   "language": "python",
   "name": "python3"
  },
  "language_info": {
   "codemirror_mode": {
    "name": "ipython",
    "version": 3
   },
   "file_extension": ".py",
   "mimetype": "text/x-python",
   "name": "python",
   "nbconvert_exporter": "python",
   "pygments_lexer": "ipython3",
   "version": "3.11.2"
  },
  "orig_nbformat": 4
 },
 "nbformat": 4,
 "nbformat_minor": 2
}
