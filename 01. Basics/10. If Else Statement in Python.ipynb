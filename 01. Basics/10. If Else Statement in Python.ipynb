{
 "cells": [
  {
   "cell_type": "code",
   "execution_count": 2,
   "metadata": {},
   "outputs": [
    {
     "name": "stdout",
     "output_type": "stream",
     "text": [
      "Shipping Cost in Texas is $5\n"
     ]
    }
   ],
   "source": [
    "# Package Delivery Cost based on location and total amount\n",
    "total = int(input(\"Enter the amount for the item: \"))\n",
    "state = str(input(\"Enter the state name in USA: \"))\n",
    "\n",
    "if state == \"Texas\":\n",
    "    if total <= 150:\n",
    "        print(\"Shipping Cost in Texas is $30\")\n",
    "    elif total > 150 and total <= 250:\n",
    "        print(\"Shipping Cost in Texas is $20\")\n",
    "    else:\n",
    "        print(\"Shipping Cost in Texas is $5\")\n",
    "\n",
    "elif state == \"Florida\":\n",
    "    if total <= 150:\n",
    "        print(\"Shipping Cost in Florida is $45\")\n",
    "    elif total > 150 and total <= 250:\n",
    "        print(\"Shipping Cost in Florida is $35\")\n",
    "    else:\n",
    "        print(\"Shipping Cost in Florida is $10\")\n",
    "\n",
    "elif state == \"Virginia\":\n",
    "    if total <= 150:\n",
    "        print(\"Shipping Cost in Virginia is $23\")\n",
    "    elif total > 150 and total <= 250:\n",
    "        print(\"Shipping Cost in Virginia is $15\")\n",
    "    else:\n",
    "        print(\"Shipping Cost in Virginia is $5\")\n",
    "\n",
    "elif state == \"New Jersey\":\n",
    "    if total <= 150:\n",
    "        print(\"Shipping Cost in New Jersey is $40\")\n",
    "    elif total > 150 and total <= 250:\n",
    "        print(\"Shipping Cost in New Jersey is $10\")\n",
    "    else:\n",
    "        print(\"Shipping Cost in New Jersey is FREE\")\n",
    "        \n",
    "else:\n",
    "    print(\"Invalid State Name.\")\n"
   ]
  }
 ],
 "metadata": {
  "kernelspec": {
   "display_name": "Python 3",
   "language": "python",
   "name": "python3"
  },
  "language_info": {
   "codemirror_mode": {
    "name": "ipython",
    "version": 3
   },
   "file_extension": ".py",
   "mimetype": "text/x-python",
   "name": "python",
   "nbconvert_exporter": "python",
   "pygments_lexer": "ipython3",
   "version": "3.11.2"
  },
  "orig_nbformat": 4
 },
 "nbformat": 4,
 "nbformat_minor": 2
}
