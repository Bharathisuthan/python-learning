{
 "cells": [
  {
   "cell_type": "code",
   "execution_count": 13,
   "metadata": {},
   "outputs": [
    {
     "name": "stdout",
     "output_type": "stream",
     "text": [
      "Hello Gokila Bharathi \n",
      "Welcome to Python Programming \n",
      "\n"
     ]
    }
   ],
   "source": [
    "import os\n",
    "file = open(\"./File Type/data.txt\", \"r\")\n",
    "print(file.read())\n",
    "file.close()\n"
   ]
  },
  {
   "cell_type": "code",
   "execution_count": 14,
   "metadata": {},
   "outputs": [
    {
     "name": "stdout",
     "output_type": "stream",
     "text": [
      "Hello\n"
     ]
    }
   ],
   "source": [
    "import os\n",
    "file = open(\"./File Type/data.txt\", \"r\")\n",
    "print(file.read(5))\n",
    "file.close()"
   ]
  },
  {
   "cell_type": "code",
   "execution_count": 15,
   "metadata": {},
   "outputs": [
    {
     "name": "stdout",
     "output_type": "stream",
     "text": [
      "Hello Gokila Bharathi \n",
      "\n"
     ]
    }
   ],
   "source": [
    "import os\n",
    "file = open(\"./File Type/data.txt\", \"r\")\n",
    "print(file.readline())\n",
    "file.close()"
   ]
  },
  {
   "cell_type": "code",
   "execution_count": 16,
   "metadata": {},
   "outputs": [
    {
     "name": "stdout",
     "output_type": "stream",
     "text": [
      "['Hello Gokila Bharathi \\n', 'Welcome to Python Programming \\n']\n"
     ]
    }
   ],
   "source": [
    "import os\n",
    "file = open(\"./File Type/data.txt\", \"r\")\n",
    "print(file.readlines())\n",
    "file.close()"
   ]
  },
  {
   "cell_type": "code",
   "execution_count": 17,
   "metadata": {},
   "outputs": [
    {
     "name": "stdout",
     "output_type": "stream",
     "text": [
      "Hello\n"
     ]
    }
   ],
   "source": [
    "import os\n",
    "file = open(\"./File Type/data.txt\", \"r\")\n",
    "print(file.readline(5))\n",
    "file.close()"
   ]
  },
  {
   "cell_type": "code",
   "execution_count": 18,
   "metadata": {},
   "outputs": [],
   "source": [
    "import os\n",
    "file = open(\"./File Type/data1.txt\", \"w\")\n",
    "file.write(\"Sunday\")\n",
    "file.write(\"Monday\")\n",
    "file.close()"
   ]
  },
  {
   "cell_type": "code",
   "execution_count": 20,
   "metadata": {},
   "outputs": [],
   "source": [
    "import os\n",
    "file = open(\"./File Type/data1.txt\", \"x\")\n",
    "file.write(\"Sunshine\")\n",
    "file.close()"
   ]
  },
  {
   "cell_type": "code",
   "execution_count": 21,
   "metadata": {},
   "outputs": [],
   "source": [
    "import os\n",
    "file = os.remove(\"./File Type/data1.txt\")\n"
   ]
  },
  {
   "cell_type": "code",
   "execution_count": 22,
   "metadata": {},
   "outputs": [
    {
     "name": "stdout",
     "output_type": "stream",
     "text": [
      "File doesn't exists\n"
     ]
    }
   ],
   "source": [
    "import os\n",
    "if os.path.exists(\"./File Type/data1.txt\"):\n",
    "    os.remove(\"./File Type/data1.txt\")\n",
    "else:\n",
    "    print(\"File doesn't exists\")"
   ]
  },
  {
   "cell_type": "code",
   "execution_count": 23,
   "metadata": {},
   "outputs": [
    {
     "name": "stdout",
     "output_type": "stream",
     "text": [
      "Hello Gokila Bharathi \n",
      "\n",
      "Welcome to Python Programming \n",
      "\n"
     ]
    }
   ],
   "source": [
    "import os\n",
    "file = open(\"./File Type/data.txt\", \"r\")\n",
    "for line in file:\n",
    "    print(line)\n",
    "\n",
    "file.close()\n"
   ]
  }
 ],
 "metadata": {
  "kernelspec": {
   "display_name": "Python 3",
   "language": "python",
   "name": "python3"
  },
  "language_info": {
   "codemirror_mode": {
    "name": "ipython",
    "version": 3
   },
   "file_extension": ".py",
   "mimetype": "text/x-python",
   "name": "python",
   "nbconvert_exporter": "python",
   "pygments_lexer": "ipython3",
   "version": "3.11.2"
  },
  "orig_nbformat": 4
 },
 "nbformat": 4,
 "nbformat_minor": 2
}
