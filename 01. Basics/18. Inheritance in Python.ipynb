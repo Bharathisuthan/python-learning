{
 "cells": [
  {
   "cell_type": "code",
   "execution_count": 1,
   "metadata": {},
   "outputs": [
    {
     "name": "stdout",
     "output_type": "stream",
     "text": [
      "Speaking..!\n",
      "Talking..!\n"
     ]
    }
   ],
   "source": [
    "# Single Level Inheritance\n",
    "class HomoSapiens:\n",
    "    def speak(self):\n",
    "        print(\"Speaking..!\")\n",
    "\n",
    "\n",
    "class Man(HomoSapiens):\n",
    "    def talk(self):\n",
    "        print(\"Talking..!\")\n",
    "\n",
    "\n",
    "man = Man()\n",
    "man.speak()\n",
    "man.talk()\n"
   ]
  },
  {
   "cell_type": "code",
   "execution_count": 2,
   "metadata": {},
   "outputs": [
    {
     "name": "stdout",
     "output_type": "stream",
     "text": [
      "Speaking..!\n",
      "Talking..!\n",
      "Eating..!\n"
     ]
    }
   ],
   "source": [
    "# Multi Level Inheritance\n",
    "class HomoSapiens:\n",
    "    def speak(self):\n",
    "        print(\"Speaking..!\")\n",
    "\n",
    "\n",
    "class Man(HomoSapiens):\n",
    "    def talk(self):\n",
    "        print(\"Talking..!\")\n",
    "\n",
    "\n",
    "class ManChild(Man):\n",
    "    def eat(self):\n",
    "        print(\"Eating..!\")\n",
    "\n",
    "\n",
    "manChild = ManChild()\n",
    "manChild.speak()\n",
    "manChild.talk()\n",
    "manChild.eat()\n"
   ]
  },
  {
   "cell_type": "code",
   "execution_count": 4,
   "metadata": {},
   "outputs": [
    {
     "name": "stdout",
     "output_type": "stream",
     "text": [
      "120\n",
      "-40\n",
      "3200\n"
     ]
    }
   ],
   "source": [
    "# Multiple Inheritance\n",
    "class Calculation1:\n",
    "    def sum(self, x, y):\n",
    "        return x + y\n",
    "\n",
    "\n",
    "class Calculation2:\n",
    "    def subtract(self, x, y):\n",
    "        return x - y\n",
    "\n",
    "\n",
    "class Derived(Calculation1, Calculation2):\n",
    "    def multiply(self, x, y):\n",
    "        return x * y\n",
    "\n",
    "\n",
    "d = Derived()\n",
    "print(d.sum(40, 80))\n",
    "print(d.subtract(40, 80))\n",
    "print(d.multiply(40, 80))\n"
   ]
  },
  {
   "cell_type": "code",
   "execution_count": 8,
   "metadata": {},
   "outputs": [
    {
     "name": "stdout",
     "output_type": "stream",
     "text": [
      "In Black & White TV Channels are telecasted through Antenna\n",
      "In Color TV Channels are telecasted through Antenna\n",
      "In Wifi LED TV Channels are telecasted through Antenna\n",
      "In Smart TV Channels are telecasted through Antenna\n",
      "In Color TV Channels are telecasted through Cable connection\n",
      "In Wifi LED TV Videos are tethered through the Output devices\n",
      "In Smart TV You can watch movies on OTT platforms\n"
     ]
    }
   ],
   "source": [
    "# Hierarchical Inheritance\n",
    "class BlackAndWhiteTV:\n",
    "    name = \"Black & White TV\"\n",
    "\n",
    "    def antenna(self):\n",
    "        print(\"In {} Channels are telecasted through Antenna\".format(self.name))\n",
    "\n",
    "\n",
    "class ColorTV(BlackAndWhiteTV):\n",
    "    name = \"Color TV\"\n",
    "\n",
    "    def cable(self):\n",
    "        print(\"In {} Channels are telecasted through Cable connection\".format(self.name))\n",
    "\n",
    "\n",
    "class WifiLEDTV(BlackAndWhiteTV):\n",
    "    name = \"Wifi LED TV\"\n",
    "\n",
    "    def tethering(self):\n",
    "        print(\"In {} Videos are tethered through the Output devices\".format(self.name))\n",
    "\n",
    "\n",
    "class SmartTV(BlackAndWhiteTV):\n",
    "    name = \"Smart TV\"\n",
    "\n",
    "    def androidApps(self):\n",
    "        print(\"In {} You can watch movies on OTT platforms\".format(self.name))\n",
    "\n",
    "\n",
    "bw = BlackAndWhiteTV()\n",
    "col = ColorTV()\n",
    "led = WifiLEDTV()\n",
    "smart = SmartTV()\n",
    "\n",
    "bw.antenna()\n",
    "col.antenna()\n",
    "led.antenna()\n",
    "smart.antenna()\n",
    "\n",
    "col.cable()\n",
    "\n",
    "led.tethering()\n",
    "\n",
    "smart.androidApps()\n"
   ]
  },
  {
   "cell_type": "code",
   "execution_count": null,
   "metadata": {},
   "outputs": [],
   "source": []
  }
 ],
 "metadata": {
  "kernelspec": {
   "display_name": "Python 3",
   "language": "python",
   "name": "python3"
  },
  "language_info": {
   "codemirror_mode": {
    "name": "ipython",
    "version": 3
   },
   "file_extension": ".py",
   "mimetype": "text/x-python",
   "name": "python",
   "nbconvert_exporter": "python",
   "pygments_lexer": "ipython3",
   "version": "3.11.2"
  },
  "orig_nbformat": 4
 },
 "nbformat": 4,
 "nbformat_minor": 2
}
