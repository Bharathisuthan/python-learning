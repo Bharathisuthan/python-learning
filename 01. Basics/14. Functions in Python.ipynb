{
 "cells": [
  {
   "cell_type": "code",
   "execution_count": 1,
   "metadata": {},
   "outputs": [
    {
     "name": "stdout",
     "output_type": "stream",
     "text": [
      "10.75\n"
     ]
    }
   ],
   "source": [
    "# Buit-in Functions in Python\n",
    "\n",
    "# abs\n",
    "a = abs(10.75)\n",
    "print(a)"
   ]
  },
  {
   "cell_type": "code",
   "execution_count": 2,
   "metadata": {},
   "outputs": [
    {
     "name": "stdout",
     "output_type": "stream",
     "text": [
      "10.75\n"
     ]
    }
   ],
   "source": [
    "a = abs(-10.75)\n",
    "print(a)"
   ]
  },
  {
   "cell_type": "code",
   "execution_count": 7,
   "metadata": {},
   "outputs": [
    {
     "name": "stdout",
     "output_type": "stream",
     "text": [
      "5\n",
      "5\n",
      "6\n",
      "2\n"
     ]
    }
   ],
   "source": [
    "# len\n",
    "l1 = [1, 2, 3, 4, 5]\n",
    "print(len(l1))\n",
    "\n",
    "st1 = 'INDIA'\n",
    "print(len(st1))\n",
    "\n",
    "tup1 = (1,2,3,4,5,6)\n",
    "print(len(tup1))\n",
    "\n",
    "dic1 = {1: 'a', 2: 'b'}\n",
    "print(len(dic1))\n"
   ]
  },
  {
   "cell_type": "code",
   "execution_count": 13,
   "metadata": {},
   "outputs": [
    {
     "name": "stdout",
     "output_type": "stream",
     "text": [
      "False\n",
      "True\n",
      "True\n"
     ]
    }
   ],
   "source": [
    "# all\n",
    "\n",
    "l1 = [0,1,0]\n",
    "x = all(l1)\n",
    "print(x)\n",
    "\n",
    "l1 = [1,1,1]\n",
    "x = all(l1)\n",
    "print(x)\n",
    "\n",
    "l1 = [1,2,1]\n",
    "x = all(l1)\n",
    "print(x)"
   ]
  },
  {
   "cell_type": "code",
   "execution_count": 15,
   "metadata": {},
   "outputs": [
    {
     "name": "stdout",
     "output_type": "stream",
     "text": [
      "111\n",
      "113\n"
     ]
    }
   ],
   "source": [
    "# sum\n",
    "\n",
    "l1 = [20, 35, 56]\n",
    "x = sum(l1)\n",
    "print(x)\n",
    "\n",
    "t1 = (20, 35, 58)\n",
    "x = sum(t1)\n",
    "print(x)"
   ]
  },
  {
   "cell_type": "code",
   "execution_count": 16,
   "metadata": {},
   "outputs": [
    {
     "name": "stdout",
     "output_type": "stream",
     "text": [
      "15\n",
      "125\n"
     ]
    }
   ],
   "source": [
    "l1 = [15, 78, 96, 125, 42, 63, 75]\n",
    "print(min(l1))\n",
    "print(max(l1))"
   ]
  },
  {
   "cell_type": "code",
   "execution_count": 3,
   "metadata": {},
   "outputs": [
    {
     "name": "stdout",
     "output_type": "stream",
     "text": [
      "I\n",
      "N\n",
      "N\n",
      "D\n"
     ]
    }
   ],
   "source": [
    "myList = iter(['I', 'N', 'D', 'I', 'A'])\n",
    "x = next(myList)\n",
    "print(x)\n",
    "x = next(myList)\n",
    "print(x)\n",
    "print(x)\n",
    "x = next(myList)\n",
    "print(x)"
   ]
  },
  {
   "cell_type": "code",
   "execution_count": 4,
   "metadata": {},
   "outputs": [
    {
     "name": "stdout",
     "output_type": "stream",
     "text": [
      "27\n",
      "16\n"
     ]
    }
   ],
   "source": [
    "# pow()\n",
    "x = pow(3, 3)\n",
    "print(x)\n",
    "x2 = pow(2, 4)\n",
    "print(x2)"
   ]
  },
  {
   "cell_type": "code",
   "execution_count": 1,
   "metadata": {},
   "outputs": [
    {
     "name": "stdout",
     "output_type": "stream",
     "text": [
      "0\n",
      "1\n",
      "2\n",
      "3\n",
      "4\n",
      "5\n"
     ]
    }
   ],
   "source": [
    "# range()\n",
    "\n",
    "x = range(6)\n",
    "for n in x:\n",
    "    print(n)"
   ]
  },
  {
   "cell_type": "code",
   "execution_count": 2,
   "metadata": {},
   "outputs": [
    {
     "name": "stdout",
     "output_type": "stream",
     "text": [
      "40\n",
      "42\n",
      "44\n",
      "46\n",
      "48\n"
     ]
    }
   ],
   "source": [
    "x = range(40, 50, 2)\n",
    "for n in x:\n",
    "    print(n)"
   ]
  },
  {
   "cell_type": "code",
   "execution_count": 4,
   "metadata": {},
   "outputs": [
    {
     "name": "stdout",
     "output_type": "stream",
     "text": [
      "8.65\n"
     ]
    }
   ],
   "source": [
    "# round()\n",
    "\n",
    "x = round(8.6478, 2)\n",
    "print(x)"
   ]
  },
  {
   "cell_type": "code",
   "execution_count": 8,
   "metadata": {},
   "outputs": [
    {
     "name": "stdout",
     "output_type": "stream",
     "text": [
      "['A', 'D', 'I', 'I', 'N']\n",
      "['N', 'I', 'I', 'D', 'A']\n"
     ]
    }
   ],
   "source": [
    "# sorted()\n",
    "a = ['I', 'N', 'D', 'I', 'A']\n",
    "x = sorted(a)\n",
    "print(x)\n",
    "\n",
    "a = ['I', 'N', 'D', 'I', 'A']\n",
    "x = sorted(a, reverse=True)\n",
    "print(x)"
   ]
  },
  {
   "cell_type": "code",
   "execution_count": 10,
   "metadata": {},
   "outputs": [
    {
     "name": "stdout",
     "output_type": "stream",
     "text": [
      "[5, 12, 27, 38, 50, 76, 80]\n",
      "[80, 76, 50, 38, 27, 12, 5]\n"
     ]
    }
   ],
   "source": [
    "a = [12, 50, 38, 76, 27, 80, 5]\n",
    "x = sorted(a)\n",
    "print(x)\n",
    "x = sorted(a, reverse=True)\n",
    "print(x)"
   ]
  },
  {
   "cell_type": "code",
   "execution_count": 12,
   "metadata": {},
   "outputs": [
    {
     "name": "stdout",
     "output_type": "stream",
     "text": [
      "('G', 'O')\n",
      "('G', 'O', 'O', 'G')\n"
     ]
    }
   ],
   "source": [
    "# slice()\n",
    "a = (\"G\", \"O\", \"O\", \"G\", \"L\", \"E\")\n",
    "x = slice(2)\n",
    "print(a[x])\n",
    "x = slice(4)\n",
    "print(a[x])"
   ]
  },
  {
   "cell_type": "code",
   "execution_count": 13,
   "metadata": {},
   "outputs": [
    {
     "name": "stdout",
     "output_type": "stream",
     "text": [
      "Hello World!\n"
     ]
    }
   ],
   "source": [
    "# User Defined Functions\n",
    "def printHelloWorld():\n",
    "    print(\"Hello World!\")\n",
    "\n",
    "printHelloWorld()"
   ]
  },
  {
   "cell_type": "code",
   "execution_count": 14,
   "metadata": {},
   "outputs": [
    {
     "name": "stdout",
     "output_type": "stream",
     "text": [
      "Hello Bharathi\n"
     ]
    }
   ],
   "source": [
    "def hello():\n",
    "    name = str(input(\"Enter your name: \"))\n",
    "    print(\"Hello\", name)\n",
    "\n",
    "hello()"
   ]
  },
  {
   "cell_type": "code",
   "execution_count": 15,
   "metadata": {},
   "outputs": [
    {
     "data": {
      "text/plain": [
       "176.784"
      ]
     },
     "execution_count": 15,
     "metadata": {},
     "output_type": "execute_result"
    }
   ],
   "source": [
    "def ft_to_cm(ft):\n",
    "    cm = ft * 30.48\n",
    "    return cm\n",
    "\n",
    "ft_to_cm(5.8)\n"
   ]
  },
  {
   "cell_type": "code",
   "execution_count": 16,
   "metadata": {},
   "outputs": [
    {
     "name": "stdout",
     "output_type": "stream",
     "text": [
      "85\n",
      "-75\n"
     ]
    }
   ],
   "source": [
    "def add(x, y):\n",
    "    sum = x + y\n",
    "    return sum\n",
    "\n",
    "print(add(5, 80))\n",
    "print(add(5, -80))"
   ]
  },
  {
   "cell_type": "code",
   "execution_count": 1,
   "metadata": {},
   "outputs": [
    {
     "name": "stdout",
     "output_type": "stream",
     "text": [
      "12\n",
      "1496\n"
     ]
    }
   ],
   "source": [
    "def multiply(x, y):\n",
    "    z = x * y\n",
    "    print(z)\n",
    "\n",
    "\n",
    "multiply(2, 6)\n",
    "multiply(22, 68)\n"
   ]
  },
  {
   "cell_type": "code",
   "execution_count": 3,
   "metadata": {},
   "outputs": [
    {
     "name": "stdout",
     "output_type": "stream",
     "text": [
      "90\n",
      "66\n"
     ]
    }
   ],
   "source": [
    "def abosolute(x):\n",
    "    if x >= 0:\n",
    "        return x\n",
    "    else:\n",
    "        return -x\n",
    "    \n",
    "z = abosolute(90)\n",
    "print(z)\n",
    "z = abosolute(-66)\n",
    "print(z)"
   ]
  },
  {
   "cell_type": "code",
   "execution_count": 5,
   "metadata": {},
   "outputs": [
    {
     "name": "stdout",
     "output_type": "stream",
     "text": [
      "1\n",
      "3628800\n"
     ]
    }
   ],
   "source": [
    "def factorial(x):\n",
    "    if x == 0:\n",
    "        return 1\n",
    "    else:\n",
    "        return x * factorial(x - 1)\n",
    "\n",
    "\n",
    "print(factorial(0))\n",
    "print(factorial(10))\n"
   ]
  },
  {
   "cell_type": "code",
   "execution_count": 6,
   "metadata": {},
   "outputs": [
    {
     "name": "stdout",
     "output_type": "stream",
     "text": [
      "Hello Paul\n",
      "Hello Kevin\n"
     ]
    }
   ],
   "source": [
    "# Default Arguments\n",
    "def welcome(name = \"Paul\"):\n",
    "    print(\"Hello\", name)\n",
    "\n",
    "welcome()\n",
    "welcome(\"Kevin\")"
   ]
  },
  {
   "cell_type": "code",
   "execution_count": 8,
   "metadata": {},
   "outputs": [
    {
     "name": "stdout",
     "output_type": "stream",
     "text": [
      "Hello Paul , Please tell Kevin that David is waiting!\n"
     ]
    }
   ],
   "source": [
    "def message(name1: str, name2: str, name3: str):\n",
    "    print(\"Hello\", name1, \", Please tell\", name2, \"that\", name3, \"is waiting!\")\n",
    "\n",
    "message(\"Paul\", \"Kevin\", \"David\")"
   ]
  },
  {
   "cell_type": "code",
   "execution_count": 12,
   "metadata": {},
   "outputs": [
    {
     "name": "stdout",
     "output_type": "stream",
     "text": [
      "7\n"
     ]
    }
   ],
   "source": [
    "# Scope\n",
    "def func1():\n",
    "    z = 7\n",
    "    print(z)\n",
    "\n",
    "func1()\n"
   ]
  },
  {
   "cell_type": "code",
   "execution_count": 15,
   "metadata": {},
   "outputs": [
    {
     "name": "stdout",
     "output_type": "stream",
     "text": [
      "8\n"
     ]
    }
   ],
   "source": [
    "z = 8\n",
    "\n",
    "\n",
    "def func1():\n",
    "    print(z)\n",
    "\n",
    "\n",
    "func1()\n"
   ]
  },
  {
   "cell_type": "code",
   "execution_count": 16,
   "metadata": {},
   "outputs": [
    {
     "ename": "UnboundLocalError",
     "evalue": "cannot access local variable 'z' where it is not associated with a value",
     "output_type": "error",
     "traceback": [
      "\u001b[1;31m---------------------------------------------------------------------------\u001b[0m",
      "\u001b[1;31mUnboundLocalError\u001b[0m                         Traceback (most recent call last)",
      "Cell \u001b[1;32mIn[16], line 9\u001b[0m\n\u001b[0;32m      5\u001b[0m     z \u001b[39m+\u001b[39m\u001b[39m=\u001b[39m \u001b[39m1\u001b[39m\n\u001b[0;32m      6\u001b[0m     \u001b[39mprint\u001b[39m(z)\n\u001b[1;32m----> 9\u001b[0m func1()\n",
      "Cell \u001b[1;32mIn[16], line 5\u001b[0m, in \u001b[0;36mfunc1\u001b[1;34m()\u001b[0m\n\u001b[0;32m      4\u001b[0m \u001b[39mdef\u001b[39;00m \u001b[39mfunc1\u001b[39m():\n\u001b[1;32m----> 5\u001b[0m     z \u001b[39m+\u001b[39m\u001b[39m=\u001b[39m \u001b[39m1\u001b[39m\n\u001b[0;32m      6\u001b[0m     \u001b[39mprint\u001b[39m(z)\n",
      "\u001b[1;31mUnboundLocalError\u001b[0m: cannot access local variable 'z' where it is not associated with a value"
     ]
    }
   ],
   "source": [
    "z = 8\n",
    "\n",
    "\n",
    "def func1():\n",
    "    z += 1\n",
    "    print(z)\n",
    "\n",
    "\n",
    "func1()"
   ]
  },
  {
   "cell_type": "code",
   "execution_count": 17,
   "metadata": {},
   "outputs": [
    {
     "name": "stdout",
     "output_type": "stream",
     "text": [
      "9\n"
     ]
    }
   ],
   "source": [
    "z = 8\n",
    "\n",
    "\n",
    "def func1():\n",
    "    global z\n",
    "    z += 1\n",
    "    print(z)\n",
    "\n",
    "\n",
    "func1()"
   ]
  },
  {
   "cell_type": "code",
   "execution_count": 20,
   "metadata": {},
   "outputs": [
    {
     "name": "stdout",
     "output_type": "stream",
     "text": [
      "Hello John, Peter, Hendry, Kevin, Charles, \n",
      "Hello John, \n",
      "Hello John, Peter, \n"
     ]
    }
   ],
   "source": [
    "def welcome(*names):\n",
    "    print(\"Hello\", end=\" \")\n",
    "    for name in names:\n",
    "        print(name, end=\", \")\n",
    "    print()\n",
    "\n",
    "welcome(\"John\", \"Peter\", \"Hendry\", \"Kevin\", \"Charles\")\n",
    "welcome(\"John\")\n",
    "welcome(\"John\", \"Peter\")\n"
   ]
  },
  {
   "cell_type": "code",
   "execution_count": 1,
   "metadata": {},
   "outputs": [
    {
     "name": "stdout",
     "output_type": "stream",
     "text": [
      "Circle Area with radius 15: 706.5\n",
      "sphere Area with radius 10: 1256.0\n"
     ]
    }
   ],
   "source": [
    "pi  = 3.14\n",
    "def circleArea(radius: float):\n",
    "    return pi * radius * radius\n",
    "\n",
    "def sphereArea(radius: float):\n",
    "    return 4 * pi * radius * radius\n",
    "\n",
    "def main():\n",
    "    print(\"Circle Area with radius 15:\", circleArea(15))\n",
    "    print(\"sphere Area with radius 10:\", sphereArea(10))\n",
    "\n",
    "main()"
   ]
  },
  {
   "cell_type": "code",
   "execution_count": null,
   "metadata": {},
   "outputs": [],
   "source": []
  }
 ],
 "metadata": {
  "kernelspec": {
   "display_name": "Python 3",
   "language": "python",
   "name": "python3"
  },
  "language_info": {
   "codemirror_mode": {
    "name": "ipython",
    "version": 3
   },
   "file_extension": ".py",
   "mimetype": "text/x-python",
   "name": "python",
   "nbconvert_exporter": "python",
   "pygments_lexer": "ipython3",
   "version": "3.11.2"
  },
  "orig_nbformat": 4
 },
 "nbformat": 4,
 "nbformat_minor": 2
}
