{
 "cells": [
  {
   "cell_type": "code",
   "execution_count": 1,
   "metadata": {},
   "outputs": [
    {
     "name": "stdout",
     "output_type": "stream",
     "text": [
      "10.75\n"
     ]
    }
   ],
   "source": [
    "# Buit-in Functions in Python\n",
    "\n",
    "# abs\n",
    "a = abs(10.75)\n",
    "print(a)"
   ]
  },
  {
   "cell_type": "code",
   "execution_count": 2,
   "metadata": {},
   "outputs": [
    {
     "name": "stdout",
     "output_type": "stream",
     "text": [
      "10.75\n"
     ]
    }
   ],
   "source": [
    "a = abs(-10.75)\n",
    "print(a)"
   ]
  },
  {
   "cell_type": "code",
   "execution_count": 7,
   "metadata": {},
   "outputs": [
    {
     "name": "stdout",
     "output_type": "stream",
     "text": [
      "5\n",
      "5\n",
      "6\n",
      "2\n"
     ]
    }
   ],
   "source": [
    "# len\n",
    "l1 = [1, 2, 3, 4, 5]\n",
    "print(len(l1))\n",
    "\n",
    "st1 = 'INDIA'\n",
    "print(len(st1))\n",
    "\n",
    "tup1 = (1,2,3,4,5,6)\n",
    "print(len(tup1))\n",
    "\n",
    "dic1 = {1: 'a', 2: 'b'}\n",
    "print(len(dic1))\n"
   ]
  },
  {
   "cell_type": "code",
   "execution_count": 13,
   "metadata": {},
   "outputs": [
    {
     "name": "stdout",
     "output_type": "stream",
     "text": [
      "False\n",
      "True\n",
      "True\n"
     ]
    }
   ],
   "source": [
    "# all\n",
    "\n",
    "l1 = [0,1,0]\n",
    "x = all(l1)\n",
    "print(x)\n",
    "\n",
    "l1 = [1,1,1]\n",
    "x = all(l1)\n",
    "print(x)\n",
    "\n",
    "l1 = [1,2,1]\n",
    "x = all(l1)\n",
    "print(x)"
   ]
  },
  {
   "cell_type": "code",
   "execution_count": 15,
   "metadata": {},
   "outputs": [
    {
     "name": "stdout",
     "output_type": "stream",
     "text": [
      "111\n",
      "113\n"
     ]
    }
   ],
   "source": [
    "# sum\n",
    "\n",
    "l1 = [20, 35, 56]\n",
    "x = sum(l1)\n",
    "print(x)\n",
    "\n",
    "t1 = (20, 35, 58)\n",
    "x = sum(t1)\n",
    "print(x)"
   ]
  },
  {
   "cell_type": "code",
   "execution_count": 16,
   "metadata": {},
   "outputs": [
    {
     "name": "stdout",
     "output_type": "stream",
     "text": [
      "15\n",
      "125\n"
     ]
    }
   ],
   "source": [
    "l1 = [15, 78, 96, 125, 42, 63, 75]\n",
    "print(min(l1))\n",
    "print(max(l1))"
   ]
  },
  {
   "cell_type": "code",
   "execution_count": 3,
   "metadata": {},
   "outputs": [
    {
     "name": "stdout",
     "output_type": "stream",
     "text": [
      "I\n",
      "N\n",
      "N\n",
      "D\n"
     ]
    }
   ],
   "source": [
    "myList = iter(['I', 'N', 'D', 'I', 'A'])\n",
    "x = next(myList)\n",
    "print(x)\n",
    "x = next(myList)\n",
    "print(x)\n",
    "print(x)\n",
    "x = next(myList)\n",
    "print(x)"
   ]
  },
  {
   "cell_type": "code",
   "execution_count": 4,
   "metadata": {},
   "outputs": [
    {
     "name": "stdout",
     "output_type": "stream",
     "text": [
      "27\n",
      "16\n"
     ]
    }
   ],
   "source": [
    "# pow()\n",
    "x = pow(3, 3)\n",
    "print(x)\n",
    "x2 = pow(2, 4)\n",
    "print(x2)"
   ]
  },
  {
   "cell_type": "code",
   "execution_count": null,
   "metadata": {},
   "outputs": [],
   "source": []
  }
 ],
 "metadata": {
  "kernelspec": {
   "display_name": "Python 3",
   "language": "python",
   "name": "python3"
  },
  "language_info": {
   "codemirror_mode": {
    "name": "ipython",
    "version": 3
   },
   "file_extension": ".py",
   "mimetype": "text/x-python",
   "name": "python",
   "nbconvert_exporter": "python",
   "pygments_lexer": "ipython3",
   "version": "3.11.2"
  },
  "orig_nbformat": 4
 },
 "nbformat": 4,
 "nbformat_minor": 2
}
