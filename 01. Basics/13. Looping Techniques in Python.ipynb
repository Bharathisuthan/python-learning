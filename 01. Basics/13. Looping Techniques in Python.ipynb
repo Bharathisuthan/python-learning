{
 "cells": [
  {
   "cell_type": "code",
   "execution_count": 2,
   "metadata": {},
   "outputs": [
    {
     "name": "stdout",
     "output_type": "stream",
     "text": [
      "2\n",
      "3\n",
      "3\n",
      "4\n",
      "4\n",
      "5\n",
      "8\n",
      "40\n",
      "50\n",
      "70\n"
     ]
    }
   ],
   "source": [
    "num = [2,4,50,3,70,40,8,3,4,5]\n",
    "for i in sorted(num):\n",
    "    print(i)"
   ]
  },
  {
   "cell_type": "code",
   "execution_count": 3,
   "metadata": {},
   "outputs": [
    {
     "name": "stdout",
     "output_type": "stream",
     "text": [
      "70\n",
      "50\n",
      "40\n",
      "8\n",
      "5\n",
      "4\n",
      "4\n",
      "3\n",
      "3\n",
      "2\n"
     ]
    }
   ],
   "source": [
    "num = [2, 4, 50, 3, 70, 40, 8, 3, 4, 5]\n",
    "for i in sorted(num, reverse=True):\n",
    "    print(i)\n"
   ]
  },
  {
   "cell_type": "code",
   "execution_count": 4,
   "metadata": {},
   "outputs": [
    {
     "name": "stdout",
     "output_type": "stream",
     "text": [
      "Salah\n",
      "Ronaldo\n",
      "Messi\n",
      "Harry\n"
     ]
    }
   ],
   "source": [
    "players = ['Messi', 'Ronaldo', 'Salah', 'Harry']\n",
    "for i in sorted(players, reverse=True):\n",
    "    print(i)"
   ]
  },
  {
   "cell_type": "code",
   "execution_count": 14,
   "metadata": {},
   "outputs": [
    {
     "name": "stdout",
     "output_type": "stream",
     "text": [
      "('a', 3)\n",
      "('b', 4)\n",
      "('c', 2)\n",
      "('e', 9)\n",
      "('f', 1)\n"
     ]
    }
   ],
   "source": [
    "d = {'f': 1, 'b': 4, 'a': 3, 'e': 9, 'c': 2}\n",
    "for i in sorted(d.items()):\n",
    "    print(i)"
   ]
  },
  {
   "cell_type": "code",
   "execution_count": 6,
   "metadata": {},
   "outputs": [
    {
     "name": "stdout",
     "output_type": "stream",
     "text": [
      "a\n",
      "b\n",
      "c\n",
      "e\n",
      "f\n"
     ]
    }
   ],
   "source": [
    "d = {'f': 1, 'b': 4, 'a': 3, 'e': 9, 'c': 2}\n",
    "for i in sorted(d.keys()):\n",
    "    print(i)"
   ]
  },
  {
   "cell_type": "code",
   "execution_count": 7,
   "metadata": {},
   "outputs": [
    {
     "name": "stdout",
     "output_type": "stream",
     "text": [
      "1\n",
      "2\n",
      "3\n",
      "4\n",
      "9\n"
     ]
    }
   ],
   "source": [
    "d = {'f': 1, 'b': 4, 'a': 3, 'e': 9, 'c': 2}\n",
    "for i in sorted(d.values()):\n",
    "    print(i)"
   ]
  },
  {
   "cell_type": "code",
   "execution_count": 8,
   "metadata": {},
   "outputs": [
    {
     "name": "stdout",
     "output_type": "stream",
     "text": [
      "Harry\n",
      "Salah\n",
      "Ronaldo\n",
      "Messi\n"
     ]
    }
   ],
   "source": [
    "players = ['Messi', 'Ronaldo', 'Salah', 'Harry']\n",
    "for i in reversed(players):\n",
    "    print(i)"
   ]
  },
  {
   "cell_type": "code",
   "execution_count": 17,
   "metadata": {},
   "outputs": [
    {
     "name": "stdout",
     "output_type": "stream",
     "text": [
      "{'name': 'Lion', 'age': 30}\n",
      "{'name': 'Leopard', 'age': 18}\n",
      "[{'name': 'Dogs', 'age': 11}, {'name': 'Lion', 'age': 30}, {'name': 'Elephant', 'age': 63}, {'name': 'Leopard', 'age': 18}]\n"
     ]
    }
   ],
   "source": [
    "animals = [{'name': 'Dogs', 'age': 11}, {'name': 'Lion', 'age': 30}, {\n",
    "    'name': 'Elephant', 'age': 63}, {'name': 'Leopard', 'age': 18}]\n",
    "for i in filter(lambda i: i[\"age\"] % 2 == 0, animals):\n",
    "    print(i)\n",
    "\n",
    "print(animals)\n"
   ]
  },
  {
   "cell_type": "code",
   "execution_count": 18,
   "metadata": {},
   "outputs": [
    {
     "name": "stdout",
     "output_type": "stream",
     "text": [
      "Israel\n",
      "Japan\n",
      "Brazil\n",
      "Canada\n",
      "India\n",
      "[]\n"
     ]
    }
   ],
   "source": [
    "country = ['India', 'Canada', 'Brazil', 'Japan', 'Israel']\n",
    "while country:\n",
    "    print(country.pop(-1))\n",
    "print(country)"
   ]
  },
  {
   "cell_type": "code",
   "execution_count": null,
   "metadata": {},
   "outputs": [
    {
     "name": "stdout",
     "output_type": "stream",
     "text": [
      "9\n",
      "8\n",
      "7\n",
      "6\n",
      "5\n",
      "4\n",
      "3\n",
      "2\n",
      "1\n",
      "0\n"
     ]
    }
   ],
   "source": [
    "num = 10\n",
    "while num > 0: num -= 1; print(num)"
   ]
  },
  {
   "cell_type": "code",
   "execution_count": null,
   "metadata": {},
   "outputs": [
    {
     "name": "stdout",
     "output_type": "stream",
     "text": [
      "The Product of  5  multiplied by 5 is  25\n",
      "The Product of  6  multiplied by 5 is  30\n",
      "The Product of  8  multiplied by 5 is  40\n",
      "The Product of  5  multiplied by 5 is  25\n",
      "The Product of  5  multiplied by 5 is  25\n",
      "The Product of  9  multiplied by 5 is  45\n",
      "The Product of  6  multiplied by 5 is  30\n",
      "The Product of  55  multiplied by 5 is  275\n",
      "The Product of  458  multiplied by 5 is  2290\n",
      "The Product of  22  multiplied by 5 is  110\n",
      "The Product of  33  multiplied by 5 is  165\n",
      "The Product of  556  multiplied by 5 is  2780\n",
      "The Product of  78  multiplied by 5 is  390\n"
     ]
    }
   ],
   "source": [
    "while True:\n",
    "    num = int(input(\"Enter an Integer: \"))\n",
    "    if (num == 0):\n",
    "        break\n",
    "    print(\"The Product of \", num, \" multiplied by 5 is \", (5 * num))\n"
   ]
  },
  {
   "cell_type": "code",
   "execution_count": 2,
   "metadata": {},
   "outputs": [
    {
     "name": "stdout",
     "output_type": "stream",
     "text": [
      "(0, 'The')\n",
      "(1, ' brown')\n",
      "(2, 'fox')\n",
      "(3, 'jumped')\n",
      "(4, 'over')\n",
      "(5, 'the')\n",
      "(6, 'lazy')\n",
      "(7, 'dog')\n",
      "(8, '.')\n",
      "['The', ' brown', 'fox', 'jumped', 'over', 'the', 'lazy', 'dog', '.']\n"
     ]
    }
   ],
   "source": [
    "array = ['The', ' brown', 'fox', 'jumped', 'over', 'the', 'lazy', 'dog', '.']\n",
    "for i in enumerate(array):\n",
    "    print(i)\n",
    "print(array)"
   ]
  },
  {
   "cell_type": "code",
   "execution_count": 3,
   "metadata": {},
   "outputs": [
    {
     "name": "stdout",
     "output_type": "stream",
     "text": [
      "0 The\n",
      "1  brown\n",
      "2 fox\n",
      "3 jumped\n",
      "4 over\n",
      "5 the\n",
      "6 lazy\n",
      "7 dog\n",
      "8 .\n",
      "['The', ' brown', 'fox', 'jumped', 'over', 'the', 'lazy', 'dog', '.']\n"
     ]
    }
   ],
   "source": [
    "array = ['The', ' brown', 'fox', 'jumped', 'over', 'the', 'lazy', 'dog', '.']\n",
    "for key, value in enumerate(array):\n",
    "    print(key, value)\n",
    "print(array)"
   ]
  },
  {
   "cell_type": "code",
   "execution_count": 6,
   "metadata": {},
   "outputs": [
    {
     "name": "stdout",
     "output_type": "stream",
     "text": [
      "The  brown fox jumped over the lazy dog . "
     ]
    }
   ],
   "source": [
    "array = ['The', ' brown', 'fox', 'jumped', 'over', 'the', 'lazy', 'dog', '.']\n",
    "for key, value in enumerate(array):\n",
    "    print(value, end=\" \")\n"
   ]
  },
  {
   "cell_type": "code",
   "execution_count": 9,
   "metadata": {},
   "outputs": [
    {
     "name": "stdout",
     "output_type": "stream",
     "text": [
      "10 G\n",
      "11 o\n",
      "12 o\n",
      "13 g\n",
      "14 l\n",
      "15 e\n"
     ]
    }
   ],
   "source": [
    "company = 'Google'\n",
    "for key, value in enumerate(company, start=10):\n",
    "    print(key, value)\n"
   ]
  },
  {
   "cell_type": "code",
   "execution_count": 10,
   "metadata": {},
   "outputs": [
    {
     "name": "stdout",
     "output_type": "stream",
     "text": [
      "('lionnel', 'Messi')\n",
      "('Christiano', 'Ronaldo')\n",
      "('Mohammed', 'Salah')\n"
     ]
    }
   ],
   "source": [
    "first = ['lionnel', 'Christiano', 'Mohammed']\n",
    "last = ['Messi', 'Ronaldo', 'Salah']\n",
    "\n",
    "for i in zip(first, last):\n",
    "    print(i)"
   ]
  },
  {
   "cell_type": "code",
   "execution_count": 11,
   "metadata": {},
   "outputs": [
    {
     "name": "stdout",
     "output_type": "stream",
     "text": [
      "('lionnel', 'Messi', 1)\n",
      "('Christiano', 'Ronaldo', 2)\n",
      "('Mohammed', 'Salah', 3)\n"
     ]
    }
   ],
   "source": [
    "first = ['lionnel', 'Christiano', 'Mohammed']\n",
    "last = ['Messi', 'Ronaldo', 'Salah']\n",
    "num = [1,2,3,4,5,6,7,8]\n",
    "\n",
    "for i in zip(first, last, num):\n",
    "    print(i)"
   ]
  },
  {
   "cell_type": "code",
   "execution_count": 12,
   "metadata": {},
   "outputs": [
    {
     "name": "stdout",
     "output_type": "stream",
     "text": [
      "('lionnel', 'Messi')\n",
      "('Christiano', 'Ronaldo')\n",
      "('Mohammed', 'Salah')\n",
      "('lionnel', None)\n",
      "('Christiano', None)\n",
      "('Mohammed', None)\n"
     ]
    }
   ],
   "source": [
    "from itertools import zip_longest\n",
    "first = ['lionnel', 'Christiano', 'Mohammed', 'lionnel', 'Christiano', 'Mohammed']\n",
    "last = ['Messi', 'Ronaldo', 'Salah']\n",
    "\n",
    "for i in zip_longest(first, last):\n",
    "    print(i)"
   ]
  },
  {
   "cell_type": "code",
   "execution_count": 16,
   "metadata": {},
   "outputs": [
    {
     "name": "stdout",
     "output_type": "stream",
     "text": [
      "('lionnel', 'Messi')\n",
      "('Christiano', 'Ronaldo')\n",
      "('Mohammed', 'Salah')\n",
      "('lionnel', 'Not Defined')\n",
      "('Christiano', 'Not Defined')\n",
      "('Mohammed', 'Not Defined')\n"
     ]
    }
   ],
   "source": [
    "from itertools import zip_longest\n",
    "first = ['lionnel', 'Christiano', 'Mohammed', 'lionnel', 'Christiano', 'Mohammed']\n",
    "last = ['Messi', 'Ronaldo', 'Salah']\n",
    "\n",
    "for i in zip_longest(first, last, fillvalue='Not Defined'):\n",
    "    print(i)"
   ]
  },
  {
   "cell_type": "code",
   "execution_count": null,
   "metadata": {},
   "outputs": [],
   "source": []
  }
 ],
 "metadata": {
  "kernelspec": {
   "display_name": "Python 3",
   "language": "python",
   "name": "python3"
  },
  "language_info": {
   "codemirror_mode": {
    "name": "ipython",
    "version": 3
   },
   "file_extension": ".py",
   "mimetype": "text/x-python",
   "name": "python",
   "nbconvert_exporter": "python",
   "pygments_lexer": "ipython3",
   "version": "3.11.2"
  },
  "orig_nbformat": 4
 },
 "nbformat": 4,
 "nbformat_minor": 2
}
