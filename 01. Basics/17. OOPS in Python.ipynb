{
 "cells": [
  {
   "cell_type": "code",
   "execution_count": 3,
   "metadata": {},
   "outputs": [
    {
     "name": "stdout",
     "output_type": "stream",
     "text": [
      "BMW year of manufacture 2023\n",
      "DUCATI year of manufacture 2023\n"
     ]
    }
   ],
   "source": [
    "class Bikes:\n",
    "    def __init__(self, brand, year):\n",
    "        self.brand = brand\n",
    "        self.year = year\n",
    "\n",
    "\n",
    "bmw = Bikes(\"BMW\", 2023)\n",
    "duca = Bikes(\"DUCATI\", 2023)\n",
    "\n",
    "print(\"{} year of manufacture {}\".format(bmw.brand, bmw.year))\n",
    "print(\"{} year of manufacture {}\".format(duca.brand, duca.year))\n"
   ]
  },
  {
   "cell_type": "code",
   "execution_count": 4,
   "metadata": {},
   "outputs": [
    {
     "name": "stdout",
     "output_type": "stream",
     "text": [
      "BMW top speed is 220\n",
      "BMW is geared bike\n"
     ]
    }
   ],
   "source": [
    "class Bikes:\n",
    "    def __init__(self, brand, year):\n",
    "        self.brand = brand\n",
    "        self.year = year\n",
    "\n",
    "    def topSpeed(self, topSpeed):\n",
    "        return \"{} top speed is {}\".format(self.brand, topSpeed)\n",
    "\n",
    "    def type(self):\n",
    "        return \"{} is geared bike\".format(self.brand)\n",
    "\n",
    "\n",
    "bmw = Bikes(\"BMW\", 2023)\n",
    "print(bmw.topSpeed(220))\n",
    "print(bmw.type())\n"
   ]
  },
  {
   "cell_type": "code",
   "execution_count": 5,
   "metadata": {},
   "outputs": [
    {
     "name": "stdout",
     "output_type": "stream",
     "text": [
      "Cat Meows\n",
      "Animal making sound\n"
     ]
    }
   ],
   "source": [
    "# Single Level Inheritance\n",
    "class Animal:\n",
    "    def sound(self):\n",
    "        print(\"Animal making sound\")\n",
    "\n",
    "\n",
    "class Cat(Animal):\n",
    "    def meow(self):\n",
    "        print(\"Cat Meows\")\n",
    "\n",
    "\n",
    "d = Cat()\n",
    "d.meow()\n",
    "d.sound()\n"
   ]
  },
  {
   "cell_type": "code",
   "execution_count": 6,
   "metadata": {},
   "outputs": [
    {
     "name": "stdout",
     "output_type": "stream",
     "text": [
      "Cat Meows\n",
      "Animal making sound\n",
      "Eating bread...\n"
     ]
    }
   ],
   "source": [
    "# Multi Level Inheritance\n",
    "class Animal:\n",
    "    def sound(self):\n",
    "        print(\"Animal making sound\")\n",
    "\n",
    "\n",
    "class Cat(Animal):\n",
    "    def meow(self):\n",
    "        print(\"Cat Meows\")\n",
    "\n",
    "\n",
    "class CatChild(Cat):\n",
    "    def eat(self):\n",
    "        print(\"Eating bread...\")\n",
    "\n",
    "\n",
    "d = CatChild()\n",
    "d.meow()\n",
    "d.sound()\n",
    "d.eat()\n"
   ]
  },
  {
   "cell_type": "code",
   "execution_count": 8,
   "metadata": {},
   "outputs": [
    {
     "name": "stdout",
     "output_type": "stream",
     "text": [
      "Parrot can fly\n",
      "Penguin can't fly\n"
     ]
    }
   ],
   "source": [
    "# Polymorphism\n",
    "class Parrot:\n",
    "    def fly(self):\n",
    "        print(\"Parrot can fly\")\n",
    "\n",
    "    def swim(self):\n",
    "        print(\"Parrot can't swim\")\n",
    "\n",
    "\n",
    "class Penguin:\n",
    "    def fly(self):\n",
    "        print(\"Penguin can't fly\")\n",
    "\n",
    "    def swim(self):\n",
    "        print(\"Penguin can swim\")\n",
    "\n",
    "\n",
    "def flyingTest(bird):\n",
    "    bird.fly()\n",
    "\n",
    "\n",
    "par = Parrot()\n",
    "pen = Penguin()\n",
    "\n",
    "flyingTest(par)\n",
    "flyingTest(pen)\n"
   ]
  },
  {
   "cell_type": "code",
   "execution_count": 20,
   "metadata": {},
   "outputs": [
    {
     "name": "stdout",
     "output_type": "stream",
     "text": [
      "Selling Price is 900000\n",
      "Selling Price is 900000\n",
      "Selling Price is 1200000\n"
     ]
    }
   ],
   "source": [
    "# Encapsulation\n",
    "class Cars:\n",
    "    def __init__(self):\n",
    "        self.__maxPrice = 900000\n",
    "\n",
    "    def sell(self):\n",
    "        print(\"Selling Price is {}\".format(self.__maxPrice))\n",
    "\n",
    "    def setMaxPrice(self, price):\n",
    "        self.__maxPrice = price\n",
    "\n",
    "\n",
    "car = Cars()\n",
    "car.sell()\n",
    "\n",
    "car.__maxPrice = 1000000\n",
    "car.sell()\n",
    "\n",
    "car.setMaxPrice(1200000)\n",
    "car.sell()\n"
   ]
  },
  {
   "cell_type": "code",
   "execution_count": 21,
   "metadata": {},
   "outputs": [
    {
     "name": "stdout",
     "output_type": "stream",
     "text": [
      "25\n",
      "27\n"
     ]
    }
   ],
   "source": [
    "class Employee:\n",
    "    def __init__(self, name, age, salary):\n",
    "        self.name = name\n",
    "        self.age = age\n",
    "        self.salary = salary\n",
    "\n",
    "\n",
    "class ChildEmployee1(Employee):\n",
    "    def __init__(self, name, age, salary):\n",
    "        self.name = name\n",
    "        self.age = age\n",
    "        self.salary = salary\n",
    "\n",
    "\n",
    "class ChildEmployee2(Employee):\n",
    "    def __init__(self, name, age, salary):\n",
    "        self.name = name\n",
    "        self.age = age\n",
    "        self.salary = salary\n",
    "\n",
    "\n",
    "childEmp1 = ChildEmployee1(\"Harshith\", 25, 25000)\n",
    "childEmp2 = ChildEmployee2(\"Jarvis\", 27, 35000)\n",
    "\n",
    "print(childEmp1.age)\n",
    "print(childEmp2.age)"
   ]
  },
  {
   "cell_type": "code",
   "execution_count": 25,
   "metadata": {},
   "outputs": [
    {
     "name": "stdout",
     "output_type": "stream",
     "text": [
      "Ford Mileage is 30kmph\n",
      "Chevrelot Mileage is 40kmph\n",
      "Renault Mileage is 24kmph\n"
     ]
    }
   ],
   "source": [
    "# Abstraction\n",
    "class Car:\n",
    "    def mileage(self):\n",
    "        pass\n",
    "\n",
    "\n",
    "class Ford(Car):\n",
    "    def mileage(self):\n",
    "        print(\"Ford Mileage is 30kmph\")\n",
    "\n",
    "\n",
    "class Chevrelot(Car):\n",
    "    def mileage(self):\n",
    "        print(\"Chevrelot Mileage is 40kmph\")\n",
    "\n",
    "\n",
    "class Renault(Car):\n",
    "    def mileage(self):\n",
    "        print(\"Renault Mileage is 24kmph\")\n",
    "\n",
    "\n",
    "c1 = Ford()\n",
    "c1.mileage()\n",
    "c2 = Chevrelot()\n",
    "c2.mileage()\n",
    "c3 = Renault()\n",
    "c3.mileage()\n"
   ]
  },
  {
   "cell_type": "code",
   "execution_count": null,
   "metadata": {},
   "outputs": [],
   "source": []
  }
 ],
 "metadata": {
  "kernelspec": {
   "display_name": "Python 3",
   "language": "python",
   "name": "python3"
  },
  "language_info": {
   "codemirror_mode": {
    "name": "ipython",
    "version": 3
   },
   "file_extension": ".py",
   "mimetype": "text/x-python",
   "name": "python",
   "nbconvert_exporter": "python",
   "pygments_lexer": "ipython3",
   "version": "3.11.2"
  },
  "orig_nbformat": 4
 },
 "nbformat": 4,
 "nbformat_minor": 2
}
