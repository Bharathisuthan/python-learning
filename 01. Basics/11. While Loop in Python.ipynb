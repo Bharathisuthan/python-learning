{
 "cells": [
  {
   "cell_type": "code",
   "execution_count": 21,
   "metadata": {},
   "outputs": [
    {
     "name": "stdout",
     "output_type": "stream",
     "text": [
      "1# \n",
      "2# \n",
      "3# \n",
      "4# \n",
      "5# \n",
      "6# \n",
      "7# \n",
      "8# \n",
      "9# \n",
      "10# \n"
     ]
    }
   ],
   "source": [
    "i = 0\n",
    "while i < 10:\n",
    "    i = i + 1\n",
    "    print(i, end='# ')\n",
    "    print()\n"
   ]
  },
  {
   "cell_type": "code",
   "execution_count": null,
   "metadata": {},
   "outputs": [
    {
     "name": "stdout",
     "output_type": "stream",
     "text": [
      "The Condition is True.\n",
      "The Condition is True.\n",
      "The Condition is True.\n",
      "The Condition is True.\n",
      "The Condition is True.\n",
      "The Condition is True.\n",
      "End of loop.\n"
     ]
    }
   ],
   "source": [
    "count = 0\n",
    "while count <= 5:\n",
    "    print(\"The Condition is True.\")\n",
    "    count += 1\n",
    "print(\"End of loop.\")"
   ]
  },
  {
   "cell_type": "code",
   "execution_count": null,
   "metadata": {},
   "outputs": [
    {
     "name": "stdout",
     "output_type": "stream",
     "text": [
      "Please type your name: \n",
      "Please type your name: \n",
      "Thank You!. You have typed the correct name.\n"
     ]
    }
   ],
   "source": [
    "while True:\n",
    "    print(\"Please type your name: \")\n",
    "    name = input()\n",
    "    if name == \"Gilly\":\n",
    "        break\n",
    "print(\"Thank You!. You have typed the correct name.\")"
   ]
  },
  {
   "cell_type": "code",
   "execution_count": null,
   "metadata": {},
   "outputs": [
    {
     "name": "stdout",
     "output_type": "stream",
     "text": [
      "28 is divisible by both 4 & 7\n"
     ]
    }
   ],
   "source": [
    "# LCM of 4 and 7\n",
    "x = 0\n",
    "while True:\n",
    "    x +=1\n",
    "    if not(x % 4 or x % 7):\n",
    "        break\n",
    "print(x, 'is divisible by both 4 & 7')"
   ]
  },
  {
   "cell_type": "code",
   "execution_count": 22,
   "metadata": {},
   "outputs": [
    {
     "name": "stdout",
     "output_type": "stream",
     "text": [
      "1\n",
      "2\n",
      "3\n",
      "4\n",
      "5\n",
      "7\n",
      "8\n",
      "9\n",
      "10\n"
     ]
    }
   ],
   "source": [
    "x = 0\n",
    "while x < 10:\n",
    "    x += 1\n",
    "    if x == 6:\n",
    "        continue\n",
    "    print(x)"
   ]
  },
  {
   "cell_type": "code",
   "execution_count": 39,
   "metadata": {},
   "outputs": [
    {
     "name": "stdout",
     "output_type": "stream",
     "text": [
      "1\n",
      "2\n",
      "3\n",
      "4\n",
      "x is not less than 5\n"
     ]
    }
   ],
   "source": [
    "x = 1\n",
    "while x < 5:\n",
    "    print(x)\n",
    "    x += 1\n",
    "else:\n",
    "    print(\"x is not less than 5\")"
   ]
  },
  {
   "cell_type": "code",
   "execution_count": 40,
   "metadata": {},
   "outputs": [
    {
     "name": "stdout",
     "output_type": "stream",
     "text": [
      "5\n",
      "4\n",
      "3\n",
      "2\n",
      "1\n",
      "There are no elements left in the list\n"
     ]
    }
   ],
   "source": [
    "a = [1, 2, 3, 4, 5]\n",
    "while a:\n",
    "    print(a.pop())\n",
    "else:\n",
    "    print(\"There are no elements left in the list\")"
   ]
  },
  {
   "cell_type": "code",
   "execution_count": 41,
   "metadata": {},
   "outputs": [
    {
     "name": "stdout",
     "output_type": "stream",
     "text": [
      "Total sum of numbers:  60 , Average:  15.0\n"
     ]
    }
   ],
   "source": [
    "# Average of Positive Numbers\n",
    "num = 0\n",
    "count = 0\n",
    "sum = 0\n",
    "\n",
    "while num >= 0:\n",
    "    num = int(input(\"Enter any positive number: \"))\n",
    "    if num >= 0:\n",
    "        count += 1\n",
    "        sum += num\n",
    "avg = sum / count\n",
    "print(\"Total sum of numbers: \", sum, ', Average: ', avg)"
   ]
  },
  {
   "cell_type": "code",
   "execution_count": 5,
   "metadata": {},
   "outputs": [
    {
     "name": "stdout",
     "output_type": "stream",
     "text": [
      "66\n",
      "Your guess is high\n",
      "Your guess is low\n",
      "You guessed it correctly\n"
     ]
    }
   ],
   "source": [
    "# Guessing Game in Python\n",
    "import random\n",
    "n = random.randint(1, 100)\n",
    "print(n)\n",
    "\n",
    "guess = int(input(\"Enter any number between 1 to 100: \"))\n",
    "\n",
    "while guess != \"guess\":\n",
    "    if guess < n:\n",
    "        print(\"Your guess is low\")\n",
    "        guess = int(input(\"Enter any number between 1 to 100: \"))\n",
    "    elif guess > n:\n",
    "        print(\"Your guess is high\")\n",
    "        guess = int(input(\"Enter any number between 1 to 100: \"))\n",
    "    else:\n",
    "        print(\"You guessed it correctly\")\n",
    "        break\n"
   ]
  }
 ],
 "metadata": {
  "kernelspec": {
   "display_name": "Python 3",
   "language": "python",
   "name": "python3"
  },
  "language_info": {
   "codemirror_mode": {
    "name": "ipython",
    "version": 3
   },
   "file_extension": ".py",
   "mimetype": "text/x-python",
   "name": "python",
   "nbconvert_exporter": "python",
   "pygments_lexer": "ipython3",
   "version": "3.11.2"
  },
  "orig_nbformat": 4
 },
 "nbformat": 4,
 "nbformat_minor": 2
}
