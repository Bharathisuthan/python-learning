{
 "cells": [
  {
   "cell_type": "code",
   "execution_count": 8,
   "metadata": {},
   "outputs": [
    {
     "name": "stdout",
     "output_type": "stream",
     "text": [
      "This is printed first\n",
      "This is printed second\n",
      "This is printed last\n"
     ]
    },
    {
     "data": {
      "text/plain": [
       "3"
      ]
     },
     "execution_count": 8,
     "metadata": {},
     "output_type": "execute_result"
    }
   ],
   "source": [
    "def myGen():\n",
    "    n = 1\n",
    "    print(\"This is printed first\")\n",
    "    yield n\n",
    "\n",
    "    n +=1\n",
    "    print(\"This is printed second\")\n",
    "    yield n\n",
    "\n",
    "    n += 1\n",
    "    print(\"This is printed last\")\n",
    "    yield n\n",
    "\n",
    "g = myGen()\n",
    "next(g)\n",
    "next(g)\n",
    "next(g)"
   ]
  },
  {
   "cell_type": "code",
   "execution_count": 9,
   "metadata": {},
   "outputs": [
    {
     "name": "stdout",
     "output_type": "stream",
     "text": [
      "This is printed first\n",
      "1\n",
      "This is printed second\n",
      "2\n",
      "This is printed last\n",
      "3\n"
     ]
    }
   ],
   "source": [
    "def myGen():\n",
    "    n = 1\n",
    "    print(\"This is printed first\")\n",
    "    yield n\n",
    "\n",
    "    n +=1\n",
    "    print(\"This is printed second\")\n",
    "    yield n\n",
    "\n",
    "    n += 1\n",
    "    print(\"This is printed last\")\n",
    "    yield n\n",
    "\n",
    "g = myGen()\n",
    "for x in g:\n",
    "    print(x)"
   ]
  },
  {
   "cell_type": "code",
   "execution_count": null,
   "metadata": {},
   "outputs": [],
   "source": []
  }
 ],
 "metadata": {
  "kernelspec": {
   "display_name": "Python 3",
   "language": "python",
   "name": "python3"
  },
  "language_info": {
   "codemirror_mode": {
    "name": "ipython",
    "version": 3
   },
   "file_extension": ".py",
   "mimetype": "text/x-python",
   "name": "python",
   "nbconvert_exporter": "python",
   "pygments_lexer": "ipython3",
   "version": "3.11.2"
  },
  "orig_nbformat": 4
 },
 "nbformat": 4,
 "nbformat_minor": 2
}
