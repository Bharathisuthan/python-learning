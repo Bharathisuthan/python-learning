{
 "cells": [
  {
   "cell_type": "code",
   "execution_count": 8,
   "metadata": {},
   "outputs": [
    {
     "name": "stdout",
     "output_type": "stream",
     "text": [
      "This is printed first\n",
      "This is printed second\n",
      "This is printed last\n"
     ]
    },
    {
     "data": {
      "text/plain": [
       "3"
      ]
     },
     "execution_count": 8,
     "metadata": {},
     "output_type": "execute_result"
    }
   ],
   "source": [
    "def myGen():\n",
    "    n = 1\n",
    "    print(\"This is printed first\")\n",
    "    yield n\n",
    "\n",
    "    n += 1\n",
    "    print(\"This is printed second\")\n",
    "    yield n\n",
    "\n",
    "    n += 1\n",
    "    print(\"This is printed last\")\n",
    "    yield n\n",
    "\n",
    "\n",
    "g = myGen()\n",
    "next(g)\n",
    "next(g)\n",
    "next(g)\n"
   ]
  },
  {
   "cell_type": "code",
   "execution_count": 9,
   "metadata": {},
   "outputs": [
    {
     "name": "stdout",
     "output_type": "stream",
     "text": [
      "This is printed first\n",
      "1\n",
      "This is printed second\n",
      "2\n",
      "This is printed last\n",
      "3\n"
     ]
    }
   ],
   "source": [
    "def myGen():\n",
    "    n = 1\n",
    "    print(\"This is printed first\")\n",
    "    yield n\n",
    "\n",
    "    n += 1\n",
    "    print(\"This is printed second\")\n",
    "    yield n\n",
    "\n",
    "    n += 1\n",
    "    print(\"This is printed last\")\n",
    "    yield n\n",
    "\n",
    "\n",
    "g = myGen()\n",
    "for x in g:\n",
    "    print(x)\n"
   ]
  },
  {
   "cell_type": "code",
   "execution_count": 12,
   "metadata": {},
   "outputs": [
    {
     "name": "stdout",
     "output_type": "stream",
     "text": [
      "First Item\n",
      "10\n",
      "Second Item\n",
      "20\n",
      "Last Item\n",
      "30\n"
     ]
    }
   ],
   "source": [
    "def myGenerator():\n",
    "    print(\"First Item\")\n",
    "    yield 10\n",
    "\n",
    "    # return\n",
    "\n",
    "    print(\"Second Item\")\n",
    "    yield 20\n",
    "\n",
    "    # return\n",
    "\n",
    "    print(\"Last Item\")\n",
    "    yield 30\n",
    "\n",
    "\n",
    "myGen = myGenerator()\n",
    "print(next(myGen))\n",
    "print(next(myGen))\n",
    "print(next(myGen))\n"
   ]
  },
  {
   "cell_type": "code",
   "execution_count": 15,
   "metadata": {},
   "outputs": [
    {
     "name": "stdout",
     "output_type": "stream",
     "text": [
      "[4, 9, 64, 100]\n",
      "<generator object <genexpr> at 0x000002209B756810>\n",
      "4\n",
      "9\n",
      "64\n",
      "100\n"
     ]
    }
   ],
   "source": [
    "list = [2, 3, 8, 10]\n",
    "\n",
    "list_ = [x**2 for x in list]\n",
    "print(list_)\n",
    "\n",
    "gene_ = (x**2 for x in list)\n",
    "print(gene_)\n",
    "\n",
    "for item in gene_:\n",
    "    print(item)\n"
   ]
  },
  {
   "cell_type": "code",
   "execution_count": 18,
   "metadata": {},
   "outputs": [
    {
     "name": "stdout",
     "output_type": "stream",
     "text": [
      "1\n",
      "1\n"
     ]
    }
   ],
   "source": [
    "def pow():\n",
    "    n = 0\n",
    "    yield 2**n\n",
    "\n",
    "\n",
    "x = pow()\n",
    "print(next(x))\n",
    "\n",
    "y = pow()\n",
    "for item in y:\n",
    "    print(item)\n"
   ]
  },
  {
   "cell_type": "code",
   "execution_count": 19,
   "metadata": {},
   "outputs": [
    {
     "name": "stdout",
     "output_type": "stream",
     "text": [
      "0\n",
      "2\n",
      "4\n",
      "6\n",
      "8\n"
     ]
    }
   ],
   "source": [
    "def allEven():\n",
    "    n = 0\n",
    "    while True:\n",
    "        yield n\n",
    "        n += 2\n",
    "        if (n == 10):\n",
    "            break\n",
    "\n",
    "\n",
    "for item in allEven():\n",
    "    print(item)\n"
   ]
  },
  {
   "cell_type": "code",
   "execution_count": 25,
   "metadata": {},
   "outputs": [
    {
     "name": "stdout",
     "output_type": "stream",
     "text": [
      "1\n",
      "1\n",
      "2\n",
      "3\n",
      "5\n",
      "8\n",
      "13\n",
      "21\n",
      "34\n",
      "55\n",
      "\n",
      "1\n",
      "1\n",
      "4\n",
      "9\n",
      "25\n",
      "64\n",
      "169\n",
      "441\n",
      "1156\n",
      "3025\n",
      "\n",
      "4895\n"
     ]
    }
   ],
   "source": [
    "def fibonacciNumbers(nums):\n",
    "    x, y = 0, 1\n",
    "    for i in range(nums):\n",
    "        x, y = y, x + y\n",
    "        yield x\n",
    "\n",
    "\n",
    "def squre(nums):\n",
    "    for num in nums:\n",
    "        yield num ** 2\n",
    "\n",
    "\n",
    "for f in fibonacciNumbers(10):\n",
    "    print(f)\n",
    "\n",
    "print()\n",
    "\n",
    "for sf in squre(fibonacciNumbers(10)):\n",
    "    print(sf)\n",
    "\n",
    "print()\n",
    "\n",
    "print(sum(squre(fibonacciNumbers(10))))\n"
   ]
  },
  {
   "cell_type": "code",
   "execution_count": 27,
   "metadata": {},
   "outputs": [
    {
     "name": "stdout",
     "output_type": "stream",
     "text": [
      "0\n",
      "1\n",
      "1\n",
      "2\n",
      "3\n",
      "5\n",
      "8\n",
      "13\n",
      "21\n"
     ]
    }
   ],
   "source": [
    "def fibonacciNumbers(limit):\n",
    "    a, b = 0, 1\n",
    "\n",
    "    while a < limit:\n",
    "        yield a\n",
    "        a, b = b, a + b\n",
    "\n",
    "for item in fibonacciNumbers(25):\n",
    "    print(item)\n"
   ]
  },
  {
   "cell_type": "code",
   "execution_count": null,
   "metadata": {},
   "outputs": [],
   "source": []
  }
 ],
 "metadata": {
  "kernelspec": {
   "display_name": "Python 3",
   "language": "python",
   "name": "python3"
  },
  "language_info": {
   "codemirror_mode": {
    "name": "ipython",
    "version": 3
   },
   "file_extension": ".py",
   "mimetype": "text/x-python",
   "name": "python",
   "nbconvert_exporter": "python",
   "pygments_lexer": "ipython3",
   "version": "3.11.2"
  },
  "orig_nbformat": 4
 },
 "nbformat": 4,
 "nbformat_minor": 2
}
