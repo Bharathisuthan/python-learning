{
 "cells": [
  {
   "cell_type": "code",
   "execution_count": 1,
   "id": "242817a9",
   "metadata": {},
   "outputs": [
    {
     "name": "stdout",
     "output_type": "stream",
     "text": [
      "Hi Bharathi\n",
      "<class 'str'>\n"
     ]
    }
   ],
   "source": [
    "str1 = \"Hi Bharathi\"\n",
    "print(str1)\n",
    "print(type(str1))"
   ]
  },
  {
   "cell_type": "code",
   "execution_count": 2,
   "id": "71ddf5c8",
   "metadata": {},
   "outputs": [
    {
     "name": "stdout",
     "output_type": "stream",
     "text": [
      "Hello Gokila\n"
     ]
    }
   ],
   "source": [
    "str2 = \"Hello Gokila\"\n",
    "print(str2)"
   ]
  },
  {
   "cell_type": "code",
   "execution_count": 3,
   "id": "6d90f700",
   "metadata": {},
   "outputs": [
    {
     "name": "stdout",
     "output_type": "stream",
     "text": [
      "Hello Everyone,\n",
      "Today We are learning about String in Python\n"
     ]
    }
   ],
   "source": [
    "str3 = '''Hello Everyone,\n",
    "Today We are learning about String in Python'''\n",
    "print(str3)"
   ]
  },
  {
   "cell_type": "code",
   "execution_count": 4,
   "id": "eb6e327b",
   "metadata": {},
   "outputs": [
    {
     "name": "stdout",
     "output_type": "stream",
     "text": [
      "B\n",
      "G\n"
     ]
    }
   ],
   "source": [
    "# Indexing\n",
    "\n",
    "str1 = \"Bharathi Gokila\"\n",
    "print(str1[0])\n",
    "print(str1[9])"
   ]
  },
  {
   "cell_type": "code",
   "execution_count": 5,
   "id": "6c04e8c8",
   "metadata": {},
   "outputs": [],
   "source": [
    "# Slicing Operator"
   ]
  },
  {
   "cell_type": "code",
   "execution_count": 7,
   "id": "9bc507f7",
   "metadata": {},
   "outputs": [
    {
     "name": "stdout",
     "output_type": "stream",
     "text": [
      "Gokila\n"
     ]
    }
   ],
   "source": [
    "print(str1[9:])"
   ]
  },
  {
   "cell_type": "code",
   "execution_count": 8,
   "id": "95a9bd90",
   "metadata": {},
   "outputs": [
    {
     "name": "stdout",
     "output_type": "stream",
     "text": [
      "alikoG ihtarahB\n"
     ]
    }
   ],
   "source": [
    "print(str1[::-1])"
   ]
  },
  {
   "cell_type": "code",
   "execution_count": 9,
   "id": "c0ea4c4a",
   "metadata": {},
   "outputs": [
    {
     "name": "stdout",
     "output_type": "stream",
     "text": [
      "a\n"
     ]
    }
   ],
   "source": [
    "print(str1[-1])"
   ]
  },
  {
   "cell_type": "code",
   "execution_count": 12,
   "id": "bba102db",
   "metadata": {},
   "outputs": [
    {
     "name": "stdout",
     "output_type": "stream",
     "text": [
      "l\n"
     ]
    }
   ],
   "source": [
    "print(str1[-2])"
   ]
  },
  {
   "cell_type": "code",
   "execution_count": 13,
   "id": "033940bd",
   "metadata": {},
   "outputs": [
    {
     "data": {
      "text/plain": [
       "'Bharathi Gokila'"
      ]
     },
     "execution_count": 13,
     "metadata": {},
     "output_type": "execute_result"
    }
   ],
   "source": [
    "# Reassign Strings\n",
    "\n",
    "str1"
   ]
  },
  {
   "cell_type": "code",
   "execution_count": 14,
   "id": "9a360866",
   "metadata": {},
   "outputs": [
    {
     "ename": "TypeError",
     "evalue": "'str' object does not support item assignment",
     "output_type": "error",
     "traceback": [
      "\u001b[1;31m---------------------------------------------------------------------------\u001b[0m",
      "\u001b[1;31mTypeError\u001b[0m                                 Traceback (most recent call last)",
      "Cell \u001b[1;32mIn[14], line 1\u001b[0m\n\u001b[1;32m----> 1\u001b[0m str1[\u001b[38;5;241m1\u001b[39m] \u001b[38;5;241m=\u001b[39m \u001b[38;5;124m'\u001b[39m\u001b[38;5;124mH\u001b[39m\u001b[38;5;124m'\u001b[39m\n\u001b[0;32m      2\u001b[0m \u001b[38;5;28mprint\u001b[39m(str1)\n",
      "\u001b[1;31mTypeError\u001b[0m: 'str' object does not support item assignment"
     ]
    }
   ],
   "source": [
    "str1[1] = 'H'\n",
    "print(str1)"
   ]
  },
  {
   "cell_type": "code",
   "execution_count": 15,
   "id": "28bbef2c",
   "metadata": {},
   "outputs": [
    {
     "name": "stdout",
     "output_type": "stream",
     "text": [
      "Python\n"
     ]
    },
    {
     "ename": "NameError",
     "evalue": "name 'str2' is not defined",
     "output_type": "error",
     "traceback": [
      "\u001b[1;31m---------------------------------------------------------------------------\u001b[0m",
      "\u001b[1;31mNameError\u001b[0m                                 Traceback (most recent call last)",
      "Cell \u001b[1;32mIn[15], line 5\u001b[0m\n\u001b[0;32m      3\u001b[0m \u001b[38;5;28mprint\u001b[39m(str2)\n\u001b[0;32m      4\u001b[0m \u001b[38;5;28;01mdel\u001b[39;00m str2\n\u001b[1;32m----> 5\u001b[0m \u001b[38;5;28mprint\u001b[39m(\u001b[43mstr2\u001b[49m)\n",
      "\u001b[1;31mNameError\u001b[0m: name 'str2' is not defined"
     ]
    }
   ],
   "source": [
    "# Delete String\n",
    "str2 = 'Python'\n",
    "print(str2)\n",
    "del str2\n",
    "print(str2)"
   ]
  },
  {
   "cell_type": "code",
   "execution_count": 17,
   "id": "045d9688",
   "metadata": {},
   "outputs": [],
   "source": [
    "# ring Operations\n",
    "str1 = \"Python\"\n",
    "str2 = 'Programing'\n"
   ]
  },
  {
   "cell_type": "code",
   "execution_count": 18,
   "id": "79a95ed3",
   "metadata": {},
   "outputs": [
    {
     "data": {
      "text/plain": [
       "'PythonPythonPython'"
      ]
     },
     "execution_count": 18,
     "metadata": {},
     "output_type": "execute_result"
    }
   ],
   "source": [
    "str1 * 3"
   ]
  },
  {
   "cell_type": "code",
   "execution_count": 19,
   "id": "70525400",
   "metadata": {},
   "outputs": [
    {
     "data": {
      "text/plain": [
       "'PythonPython'"
      ]
     },
     "execution_count": 19,
     "metadata": {},
     "output_type": "execute_result"
    }
   ],
   "source": [
    "str1 + str1"
   ]
  },
  {
   "cell_type": "code",
   "execution_count": 20,
   "id": "8a818f2e",
   "metadata": {},
   "outputs": [
    {
     "data": {
      "text/plain": [
       "'PythonPrograming'"
      ]
     },
     "execution_count": 20,
     "metadata": {},
     "output_type": "execute_result"
    }
   ],
   "source": [
    "str1 + str2"
   ]
  },
  {
   "cell_type": "code",
   "execution_count": 22,
   "id": "93bdb3e1",
   "metadata": {},
   "outputs": [
    {
     "name": "stdout",
     "output_type": "stream",
     "text": [
      "False\n"
     ]
    }
   ],
   "source": [
    "print('p' in str1)"
   ]
  },
  {
   "cell_type": "code",
   "execution_count": 23,
   "id": "42a5fd9f",
   "metadata": {},
   "outputs": [
    {
     "name": "stdout",
     "output_type": "stream",
     "text": [
      "True\n"
     ]
    }
   ],
   "source": [
    "print('P' in str1)"
   ]
  },
  {
   "cell_type": "code",
   "execution_count": 24,
   "id": "d0bde9ff",
   "metadata": {},
   "outputs": [
    {
     "name": "stdout",
     "output_type": "stream",
     "text": [
      "False\n"
     ]
    }
   ],
   "source": [
    "print('w' in str1)"
   ]
  },
  {
   "cell_type": "code",
   "execution_count": 26,
   "id": "9b6efd7a",
   "metadata": {},
   "outputs": [
    {
     "name": "stdout",
     "output_type": "stream",
     "text": [
      "False\n"
     ]
    }
   ],
   "source": [
    "print('pro' in str2)"
   ]
  },
  {
   "cell_type": "code",
   "execution_count": 28,
   "id": "f0141c9c",
   "metadata": {},
   "outputs": [
    {
     "name": "stdout",
     "output_type": "stream",
     "text": [
      "True\n"
     ]
    }
   ],
   "source": [
    "print('Pro' in str2)"
   ]
  },
  {
   "cell_type": "code",
   "execution_count": 29,
   "id": "c9cdefa2",
   "metadata": {},
   "outputs": [
    {
     "name": "stdout",
     "output_type": "stream",
     "text": [
      "c://pyton3.7\n"
     ]
    }
   ],
   "source": [
    "print('c://pyton3.7')"
   ]
  },
  {
   "cell_type": "code",
   "execution_count": 32,
   "id": "5e5ebbfa",
   "metadata": {},
   "outputs": [
    {
     "name": "stdout",
     "output_type": "stream",
     "text": [
      "c://pyton3.7\n"
     ]
    }
   ],
   "source": [
    "# Print Raw String\n",
    "print(r'c://pyton3.7')"
   ]
  },
  {
   "cell_type": "code",
   "execution_count": 35,
   "id": "437880c9",
   "metadata": {},
   "outputs": [
    {
     "name": "stdout",
     "output_type": "stream",
     "text": [
      "James and Brado are best friends.\n"
     ]
    }
   ],
   "source": [
    "# Format Methods\n",
    "print(\"{} and {} are best friends.\".format(\"James\", \"Brado\"))"
   ]
  },
  {
   "cell_type": "code",
   "execution_count": 36,
   "id": "5558584e",
   "metadata": {},
   "outputs": [
    {
     "name": "stdout",
     "output_type": "stream",
     "text": [
      "Brado and James are best friends.\n"
     ]
    }
   ],
   "source": [
    "print(\"{1} and {0} are best friends.\".format(\"James\", \"Brado\"))"
   ]
  },
  {
   "cell_type": "code",
   "execution_count": 37,
   "id": "1e9a07b6",
   "metadata": {},
   "outputs": [
    {
     "name": "stdout",
     "output_type": "stream",
     "text": [
      "James and Brado are best friends.\n"
     ]
    }
   ],
   "source": [
    "print(\"{a} and {b} are best friends.\".format(a = \"James\", b = \"Brado\"))"
   ]
  },
  {
   "cell_type": "code",
   "execution_count": 40,
   "id": "48fede59",
   "metadata": {},
   "outputs": [
    {
     "name": "stdout",
     "output_type": "stream",
     "text": [
      "Here name is Angela\n",
      "Her Salary is 100000\n"
     ]
    }
   ],
   "source": [
    "name = \"Angela\"\n",
    "salary = 100000\n",
    "print(\"Here name is %s\\nHer Salary is %d\"%(name, salary))"
   ]
  },
  {
   "cell_type": "code",
   "execution_count": 43,
   "id": "32d2deb6",
   "metadata": {},
   "outputs": [
    {
     "name": "stdout",
     "output_type": "stream",
     "text": [
      "Old Value: bharathiraja\n",
      "New Value: Bharathiraja\n"
     ]
    }
   ],
   "source": [
    "str1 = \"bharathiraja\"\n",
    "str2 = str1.capitalize()\n",
    "print(\"Old Value: %s\"%(str1))\n",
    "print(\"New Value: %s\"%(str2))"
   ]
  },
  {
   "cell_type": "code",
   "execution_count": 44,
   "id": "591f7610",
   "metadata": {},
   "outputs": [
    {
     "name": "stdout",
     "output_type": "stream",
     "text": [
      "Old Value: BHARATHIRAJA\n",
      "New Value: bharathiraja\n"
     ]
    }
   ],
   "source": [
    "str1 = \"BHARATHIRAJA\"\n",
    "str2 = str1.casefold()\n",
    "print(\"Old Value: %s\"%(str1))\n",
    "print(\"New Value: %s\"%(str2))"
   ]
  },
  {
   "cell_type": "code",
   "execution_count": null,
   "id": "0e8fb136",
   "metadata": {},
   "outputs": [],
   "source": [
    "str1 = \"bharathiraja\"\n",
    "str2 = str1.uppercase()\n",
    "print(\"Old Value: %s\"%(str1))\n",
    "print(\"New Value: %s\"%(str2))"
   ]
  }
 ],
 "metadata": {
  "kernelspec": {
   "display_name": "Python 3 (ipykernel)",
   "language": "python",
   "name": "python3"
  },
  "language_info": {
   "codemirror_mode": {
    "name": "ipython",
    "version": 3
   },
   "file_extension": ".py",
   "mimetype": "text/x-python",
   "name": "python",
   "nbconvert_exporter": "python",
   "pygments_lexer": "ipython3",
   "version": "3.10.9"
  }
 },
 "nbformat": 4,
 "nbformat_minor": 5
}
