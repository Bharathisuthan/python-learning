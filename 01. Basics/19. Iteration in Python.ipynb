{
 "cells": [
  {
   "cell_type": "code",
   "execution_count": 4,
   "metadata": {},
   "outputs": [
    {
     "name": "stdout",
     "output_type": "stream",
     "text": [
      "4\n",
      "17\n",
      "60\n",
      "33\n"
     ]
    }
   ],
   "source": [
    "list = [4, 17, 60, 33]\n",
    "\n",
    "myIter = iter(list)\n",
    "print(next(myIter))\n",
    "print(next(myIter))\n",
    "print(myIter.__next__())\n",
    "print(myIter.__next__())\n",
    "# print(next(myIter))\n"
   ]
  },
  {
   "cell_type": "code",
   "execution_count": 5,
   "metadata": {},
   "outputs": [
    {
     "name": "stdout",
     "output_type": "stream",
     "text": [
      "G\n",
      "e\n",
      "e\n",
      "k\n",
      "s\n"
     ]
    }
   ],
   "source": [
    "iterableValue = \"Geeks\"\n",
    "iterableObj = iter(iterableValue)\n",
    "while True:\n",
    "    try:\n",
    "        item = next(iterableObj)\n",
    "        print(item)\n",
    "    except StopIteration:\n",
    "        break\n"
   ]
  },
  {
   "cell_type": "code",
   "execution_count": 6,
   "metadata": {},
   "outputs": [
    {
     "name": "stdout",
     "output_type": "stream",
     "text": [
      "4\n",
      "17\n",
      "60\n",
      "33\n"
     ]
    }
   ],
   "source": [
    "list = [4, 17, 60, 33]\n",
    "for object in list:\n",
    "    print(object)\n"
   ]
  },
  {
   "cell_type": "code",
   "execution_count": 18,
   "metadata": {},
   "outputs": [
    {
     "name": "stdout",
     "output_type": "stream",
     "text": [
      "6\n",
      "7\n",
      "8\n",
      "9\n",
      "10\n",
      "11\n",
      "12\n",
      "13\n",
      "14\n",
      "15\n"
     ]
    }
   ],
   "source": [
    "class AddSix:\n",
    "    def __init__(self, max = 0):\n",
    "        self.max = max\n",
    "    def __iter__(self):\n",
    "        self.n = 0\n",
    "        return self\n",
    "    def __next__(self):\n",
    "        if self.n <= self.max:\n",
    "            result = self.n + 6\n",
    "            self.n += 1\n",
    "            return result\n",
    "        else:\n",
    "            raise StopIteration\n",
    "        \n",
    "numbers = AddSix(9)\n",
    "i = iter(numbers)\n",
    "\n",
    "print(next(i))\n",
    "print(next(i))\n",
    "print(next(i))\n",
    "print(next(i))\n",
    "print(next(i))\n",
    "print(next(i))\n",
    "print(next(i))\n",
    "print(next(i))\n",
    "print(next(i))\n",
    "print(next(i))"
   ]
  },
  {
   "cell_type": "code",
   "execution_count": 1,
   "metadata": {},
   "outputs": [
    {
     "name": "stdout",
     "output_type": "stream",
     "text": [
      "1\n",
      "2\n",
      "3\n",
      "4\n",
      "5\n",
      "6\n",
      "7\n",
      "8\n",
      "9\n",
      "10\n",
      "11\n",
      "12\n",
      "13\n",
      "14\n",
      "15\n",
      "16\n",
      "17\n",
      "18\n",
      "19\n",
      "20\n"
     ]
    }
   ],
   "source": [
    "class MyNumbers:\n",
    "    def __iter__(self):\n",
    "        self.a = 1\n",
    "        return self\n",
    "\n",
    "    def __next__(self):\n",
    "        if (self.a <= 20):\n",
    "            x = self.a\n",
    "            self.a += 1\n",
    "            return x\n",
    "        else:\n",
    "            raise StopIteration\n",
    "\n",
    "\n",
    "myNum = MyNumbers()\n",
    "myIter = iter(myNum)\n",
    "for x in myIter:\n",
    "    print(x)\n"
   ]
  },
  {
   "cell_type": "code",
   "execution_count": 2,
   "metadata": {},
   "outputs": [
    {
     "name": "stdout",
     "output_type": "stream",
     "text": [
      "0\n",
      "2\n",
      "4\n",
      "6\n",
      "8\n",
      "10\n",
      "12\n",
      "14\n",
      "16\n",
      "18\n",
      "20\n"
     ]
    }
   ],
   "source": [
    "class MyNumbers:\n",
    "    def __iter__(self):\n",
    "        self.a = 0\n",
    "        return self\n",
    "\n",
    "    def __next__(self):\n",
    "        if (self.a <= 20):\n",
    "            x = self.a\n",
    "            self.a += 2\n",
    "            return x\n",
    "        else:\n",
    "            raise StopIteration\n",
    "\n",
    "\n",
    "myNum = MyNumbers()\n",
    "myIter = iter(myNum)\n",
    "for x in myIter:\n",
    "    print(x)\n"
   ]
  },
  {
   "cell_type": "code",
   "execution_count": null,
   "metadata": {},
   "outputs": [],
   "source": []
  }
 ],
 "metadata": {
  "kernelspec": {
   "display_name": "Python 3",
   "language": "python",
   "name": "python3"
  },
  "language_info": {
   "codemirror_mode": {
    "name": "ipython",
    "version": 3
   },
   "file_extension": ".py",
   "mimetype": "text/x-python",
   "name": "python",
   "nbconvert_exporter": "python",
   "pygments_lexer": "ipython3",
   "version": "3.11.2"
  },
  "orig_nbformat": 4
 },
 "nbformat": 4,
 "nbformat_minor": 2
}
