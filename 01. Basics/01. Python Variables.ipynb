{
 "cells": [
  {
   "cell_type": "code",
   "execution_count": 1,
   "id": "9ee426a1",
   "metadata": {},
   "outputs": [
    {
     "data": {
      "text/plain": [
       "50"
      ]
     },
     "execution_count": 1,
     "metadata": {},
     "output_type": "execute_result"
    }
   ],
   "source": [
    "a = 50\n",
    "a"
   ]
  },
  {
   "cell_type": "code",
   "execution_count": 2,
   "id": "74e4ddc8",
   "metadata": {},
   "outputs": [
    {
     "data": {
      "text/plain": [
       "int"
      ]
     },
     "execution_count": 2,
     "metadata": {},
     "output_type": "execute_result"
    }
   ],
   "source": [
    "type(a)\n"
   ]
  },
  {
   "cell_type": "code",
   "execution_count": 3,
   "id": "16c5d57e",
   "metadata": {},
   "outputs": [
    {
     "data": {
      "text/plain": [
       "3009303152400"
      ]
     },
     "execution_count": 3,
     "metadata": {},
     "output_type": "execute_result"
    }
   ],
   "source": [
    "id(a)"
   ]
  },
  {
   "cell_type": "code",
   "execution_count": 5,
   "id": "99829b1d",
   "metadata": {},
   "outputs": [
    {
     "data": {
      "text/plain": [
       "3009303154000"
      ]
     },
     "execution_count": 5,
     "metadata": {},
     "output_type": "execute_result"
    }
   ],
   "source": [
    "a = 100\n",
    "id(a)"
   ]
  },
  {
   "cell_type": "code",
   "execution_count": 6,
   "id": "e7cee575",
   "metadata": {},
   "outputs": [],
   "source": [
    "(x,y,z) = 10, 10.2, \"Bharathi\""
   ]
  },
  {
   "cell_type": "code",
   "execution_count": 7,
   "id": "2a81379e",
   "metadata": {},
   "outputs": [
    {
     "data": {
      "text/plain": [
       "10"
      ]
     },
     "execution_count": 7,
     "metadata": {},
     "output_type": "execute_result"
    }
   ],
   "source": [
    "x"
   ]
  },
  {
   "cell_type": "code",
   "execution_count": 8,
   "id": "1c20f092",
   "metadata": {},
   "outputs": [
    {
     "data": {
      "text/plain": [
       "10.2"
      ]
     },
     "execution_count": 8,
     "metadata": {},
     "output_type": "execute_result"
    }
   ],
   "source": [
    "y"
   ]
  },
  {
   "cell_type": "code",
   "execution_count": 9,
   "id": "0fc27619",
   "metadata": {},
   "outputs": [
    {
     "data": {
      "text/plain": [
       "'Bharathi'"
      ]
     },
     "execution_count": 9,
     "metadata": {},
     "output_type": "execute_result"
    }
   ],
   "source": [
    "z"
   ]
  },
  {
   "cell_type": "code",
   "execution_count": 10,
   "id": "84aadbeb",
   "metadata": {},
   "outputs": [
    {
     "data": {
      "text/plain": [
       "int"
      ]
     },
     "execution_count": 10,
     "metadata": {},
     "output_type": "execute_result"
    }
   ],
   "source": [
    "type(x)"
   ]
  },
  {
   "cell_type": "code",
   "execution_count": 11,
   "id": "7573f736",
   "metadata": {},
   "outputs": [
    {
     "data": {
      "text/plain": [
       "float"
      ]
     },
     "execution_count": 11,
     "metadata": {},
     "output_type": "execute_result"
    }
   ],
   "source": [
    "type(y)"
   ]
  },
  {
   "cell_type": "code",
   "execution_count": 12,
   "id": "e2d9c3a1",
   "metadata": {},
   "outputs": [
    {
     "data": {
      "text/plain": [
       "str"
      ]
     },
     "execution_count": 12,
     "metadata": {},
     "output_type": "execute_result"
    }
   ],
   "source": [
    "type(z)"
   ]
  },
  {
   "cell_type": "code",
   "execution_count": 13,
   "id": "bb8a9d51",
   "metadata": {},
   "outputs": [],
   "source": [
    "x = y = z = 10\n"
   ]
  },
  {
   "cell_type": "code",
   "execution_count": 14,
   "id": "7167daea",
   "metadata": {},
   "outputs": [
    {
     "data": {
      "text/plain": [
       "10"
      ]
     },
     "execution_count": 14,
     "metadata": {},
     "output_type": "execute_result"
    }
   ],
   "source": [
    "x"
   ]
  },
  {
   "cell_type": "code",
   "execution_count": 15,
   "id": "b43bf9f0",
   "metadata": {},
   "outputs": [
    {
     "data": {
      "text/plain": [
       "10"
      ]
     },
     "execution_count": 15,
     "metadata": {},
     "output_type": "execute_result"
    }
   ],
   "source": [
    "y"
   ]
  },
  {
   "cell_type": "code",
   "execution_count": 16,
   "id": "b62d3b8b",
   "metadata": {},
   "outputs": [
    {
     "data": {
      "text/plain": [
       "10"
      ]
     },
     "execution_count": 16,
     "metadata": {},
     "output_type": "execute_result"
    }
   ],
   "source": [
    "z"
   ]
  },
  {
   "cell_type": "code",
   "execution_count": 17,
   "id": "03e8a6d9",
   "metadata": {},
   "outputs": [],
   "source": [
    "# Rules for Variable Naming"
   ]
  },
  {
   "cell_type": "code",
   "execution_count": 18,
   "id": "d46da1e9",
   "metadata": {},
   "outputs": [
    {
     "data": {
      "text/plain": [
       "100"
      ]
     },
     "execution_count": 18,
     "metadata": {},
     "output_type": "execute_result"
    }
   ],
   "source": [
    "abc = 100\n",
    "abc"
   ]
  },
  {
   "cell_type": "code",
   "execution_count": 19,
   "id": "5a8a6564",
   "metadata": {},
   "outputs": [],
   "source": [
    "a102 = 100"
   ]
  },
  {
   "cell_type": "code",
   "execution_count": 20,
   "id": "dee5b868",
   "metadata": {},
   "outputs": [
    {
     "data": {
      "text/plain": [
       "100"
      ]
     },
     "execution_count": 20,
     "metadata": {},
     "output_type": "execute_result"
    }
   ],
   "source": [
    "a102"
   ]
  },
  {
   "cell_type": "code",
   "execution_count": 21,
   "id": "72d3be89",
   "metadata": {},
   "outputs": [
    {
     "data": {
      "text/plain": [
       "'India'"
      ]
     },
     "execution_count": 21,
     "metadata": {},
     "output_type": "execute_result"
    }
   ],
   "source": [
    "_12 = \"India\"\n",
    "_12"
   ]
  },
  {
   "cell_type": "code",
   "execution_count": 22,
   "id": "37e25e4c",
   "metadata": {},
   "outputs": [
    {
     "ename": "SyntaxError",
     "evalue": "invalid decimal literal (1743631532.py, line 1)",
     "output_type": "error",
     "traceback": [
      "\u001b[1;36m  Cell \u001b[1;32mIn[22], line 1\u001b[1;36m\u001b[0m\n\u001b[1;33m    12asd = \"India\"\u001b[0m\n\u001b[1;37m     ^\u001b[0m\n\u001b[1;31mSyntaxError\u001b[0m\u001b[1;31m:\u001b[0m invalid decimal literal\n"
     ]
    }
   ],
   "source": [
    "12asd = \"India\""
   ]
  },
  {
   "cell_type": "code",
   "execution_count": 23,
   "id": "ec514516",
   "metadata": {},
   "outputs": [],
   "source": [
    "_name_age = \"Bharathi 26\""
   ]
  },
  {
   "cell_type": "code",
   "execution_count": 24,
   "id": "88201056",
   "metadata": {},
   "outputs": [
    {
     "data": {
      "text/plain": [
       "'Bharathi 26'"
      ]
     },
     "execution_count": 24,
     "metadata": {},
     "output_type": "execute_result"
    }
   ],
   "source": [
    "_name_age\n"
   ]
  },
  {
   "cell_type": "code",
   "execution_count": 25,
   "id": "6d5e6889",
   "metadata": {},
   "outputs": [],
   "source": [
    "name = \"bharathi\""
   ]
  },
  {
   "cell_type": "code",
   "execution_count": 26,
   "id": "f9612e5b",
   "metadata": {},
   "outputs": [],
   "source": [
    "Name = \"Bharathi\""
   ]
  },
  {
   "cell_type": "code",
   "execution_count": 27,
   "id": "3f211add",
   "metadata": {},
   "outputs": [],
   "source": [
    "NAME = \"BHARATHI\""
   ]
  },
  {
   "cell_type": "code",
   "execution_count": 28,
   "id": "0e405317",
   "metadata": {},
   "outputs": [
    {
     "data": {
      "text/plain": [
       "'BHARATHI'"
      ]
     },
     "execution_count": 28,
     "metadata": {},
     "output_type": "execute_result"
    }
   ],
   "source": [
    "name\n",
    "Name\n",
    "NAME\n"
   ]
  },
  {
   "cell_type": "code",
   "execution_count": 29,
   "id": "edcfa283",
   "metadata": {},
   "outputs": [
    {
     "data": {
      "text/plain": [
       "'bharathi'"
      ]
     },
     "execution_count": 29,
     "metadata": {},
     "output_type": "execute_result"
    }
   ],
   "source": [
    "name\n"
   ]
  },
  {
   "cell_type": "code",
   "execution_count": 30,
   "id": "e576b40f",
   "metadata": {},
   "outputs": [
    {
     "data": {
      "text/plain": [
       "'Bharathi'"
      ]
     },
     "execution_count": 30,
     "metadata": {},
     "output_type": "execute_result"
    }
   ],
   "source": [
    "Name"
   ]
  },
  {
   "cell_type": "code",
   "execution_count": 31,
   "id": "b2220fad",
   "metadata": {},
   "outputs": [
    {
     "data": {
      "text/plain": [
       "'BHARATHI'"
      ]
     },
     "execution_count": 31,
     "metadata": {},
     "output_type": "execute_result"
    }
   ],
   "source": [
    "NAME"
   ]
  },
  {
   "cell_type": "code",
   "execution_count": 42,
   "id": "191bcf84",
   "metadata": {},
   "outputs": [
    {
     "data": {
      "text/plain": [
       "100"
      ]
     },
     "execution_count": 42,
     "metadata": {},
     "output_type": "execute_result"
    }
   ],
   "source": [
    "a\n",
    "a\n"
   ]
  },
  {
   "cell_type": "code",
   "execution_count": 43,
   "id": "1cd0b44b",
   "metadata": {},
   "outputs": [
    {
     "ename": "SyntaxError",
     "evalue": "invalid syntax (2919734061.py, line 1)",
     "output_type": "error",
     "traceback": [
      "\u001b[1;36m  Cell \u001b[1;32mIn[43], line 1\u001b[1;36m\u001b[0m\n\u001b[1;33m    break = 30\u001b[0m\n\u001b[1;37m          ^\u001b[0m\n\u001b[1;31mSyntaxError\u001b[0m\u001b[1;31m:\u001b[0m invalid syntax\n"
     ]
    }
   ],
   "source": [
    "break = 30"
   ]
  },
  {
   "cell_type": "code",
   "execution_count": 44,
   "id": "65c4b1f4",
   "metadata": {},
   "outputs": [
    {
     "ename": "SyntaxError",
     "evalue": "invalid syntax (574851001.py, line 1)",
     "output_type": "error",
     "traceback": [
      "\u001b[1;36m  Cell \u001b[1;32mIn[44], line 1\u001b[1;36m\u001b[0m\n\u001b[1;33m    if = 30\u001b[0m\n\u001b[1;37m       ^\u001b[0m\n\u001b[1;31mSyntaxError\u001b[0m\u001b[1;31m:\u001b[0m invalid syntax\n"
     ]
    }
   ],
   "source": [
    "if = 30"
   ]
  },
  {
   "cell_type": "code",
   "execution_count": 45,
   "id": "1b3a702d",
   "metadata": {},
   "outputs": [
    {
     "data": {
      "text/plain": [
       "300"
      ]
     },
     "execution_count": 45,
     "metadata": {},
     "output_type": "execute_result"
    }
   ],
   "source": [
    "# Operations\n",
    "\n",
    "a = 100\n",
    "b = 200\n",
    "c = a + b\n",
    "c"
   ]
  },
  {
   "cell_type": "code",
   "execution_count": 46,
   "id": "9871a334",
   "metadata": {},
   "outputs": [
    {
     "data": {
      "text/plain": [
       "-100"
      ]
     },
     "execution_count": 46,
     "metadata": {},
     "output_type": "execute_result"
    }
   ],
   "source": [
    "c = a - b\n",
    "c"
   ]
  },
  {
   "cell_type": "code",
   "execution_count": 47,
   "id": "44443a4c",
   "metadata": {},
   "outputs": [
    {
     "data": {
      "text/plain": [
       "0.5"
      ]
     },
     "execution_count": 47,
     "metadata": {},
     "output_type": "execute_result"
    }
   ],
   "source": [
    "c = a/b\n",
    "c"
   ]
  },
  {
   "cell_type": "code",
   "execution_count": 48,
   "id": "48082965",
   "metadata": {},
   "outputs": [
    {
     "data": {
      "text/plain": [
       "0"
      ]
     },
     "execution_count": 48,
     "metadata": {},
     "output_type": "execute_result"
    }
   ],
   "source": [
    "c = a//b\n",
    "c"
   ]
  },
  {
   "cell_type": "code",
   "execution_count": 49,
   "id": "4adbb744",
   "metadata": {},
   "outputs": [
    {
     "data": {
      "text/plain": [
       "2.5"
      ]
     },
     "execution_count": 49,
     "metadata": {},
     "output_type": "execute_result"
    }
   ],
   "source": [
    "100/40"
   ]
  },
  {
   "cell_type": "code",
   "execution_count": 50,
   "id": "a860f0a7",
   "metadata": {},
   "outputs": [
    {
     "data": {
      "text/plain": [
       "2"
      ]
     },
     "execution_count": 50,
     "metadata": {},
     "output_type": "execute_result"
    }
   ],
   "source": [
    "100//40"
   ]
  },
  {
   "cell_type": "code",
   "execution_count": 51,
   "id": "0e92c670",
   "metadata": {},
   "outputs": [],
   "source": [
    "country = \"India\"\n",
    "\n"
   ]
  },
  {
   "cell_type": "code",
   "execution_count": 52,
   "id": "98939a71",
   "metadata": {},
   "outputs": [
    {
     "data": {
      "text/plain": [
       "'i'"
      ]
     },
     "execution_count": 52,
     "metadata": {},
     "output_type": "execute_result"
    }
   ],
   "source": [
    "country[3]"
   ]
  },
  {
   "cell_type": "code",
   "execution_count": 53,
   "id": "b2fa2d2c",
   "metadata": {},
   "outputs": [
    {
     "data": {
      "text/plain": [
       "'Ind'"
      ]
     },
     "execution_count": 53,
     "metadata": {},
     "output_type": "execute_result"
    }
   ],
   "source": [
    "country[:3]"
   ]
  },
  {
   "cell_type": "code",
   "execution_count": 54,
   "id": "9a8bc716",
   "metadata": {},
   "outputs": [],
   "source": [
    "cars = [\"Audi\", \"BMW\", \"Toyota\"]"
   ]
  },
  {
   "cell_type": "code",
   "execution_count": 55,
   "id": "3108ba97",
   "metadata": {},
   "outputs": [
    {
     "data": {
      "text/plain": [
       "['Audi', 'BMW', 'Toyota']"
      ]
     },
     "execution_count": 55,
     "metadata": {},
     "output_type": "execute_result"
    }
   ],
   "source": [
    "cars"
   ]
  },
  {
   "cell_type": "code",
   "execution_count": 56,
   "id": "90535f1a",
   "metadata": {},
   "outputs": [],
   "source": [
    "x,y,z = cars"
   ]
  },
  {
   "cell_type": "code",
   "execution_count": 57,
   "id": "075c9342",
   "metadata": {},
   "outputs": [
    {
     "data": {
      "text/plain": [
       "'Audi'"
      ]
     },
     "execution_count": 57,
     "metadata": {},
     "output_type": "execute_result"
    }
   ],
   "source": [
    "x"
   ]
  },
  {
   "cell_type": "code",
   "execution_count": 58,
   "id": "e5903689",
   "metadata": {},
   "outputs": [
    {
     "data": {
      "text/plain": [
       "'BMW'"
      ]
     },
     "execution_count": 58,
     "metadata": {},
     "output_type": "execute_result"
    }
   ],
   "source": [
    "y"
   ]
  },
  {
   "cell_type": "code",
   "execution_count": 59,
   "id": "a244895e",
   "metadata": {},
   "outputs": [
    {
     "data": {
      "text/plain": [
       "'Toyota'"
      ]
     },
     "execution_count": 59,
     "metadata": {},
     "output_type": "execute_result"
    }
   ],
   "source": [
    "z"
   ]
  },
  {
   "cell_type": "code",
   "execution_count": 60,
   "id": "878cc3c8",
   "metadata": {},
   "outputs": [],
   "source": [
    "x = \"Bharathi\""
   ]
  },
  {
   "cell_type": "code",
   "execution_count": 61,
   "id": "5bd6e600",
   "metadata": {},
   "outputs": [
    {
     "name": "stdout",
     "output_type": "stream",
     "text": [
      "Welcome Bharathi\n"
     ]
    }
   ],
   "source": [
    "print(\"Welcome \" + x)"
   ]
  },
  {
   "cell_type": "code",
   "execution_count": 62,
   "id": "1de1d6f1",
   "metadata": {},
   "outputs": [],
   "source": [
    "y = 20"
   ]
  },
  {
   "cell_type": "code",
   "execution_count": 63,
   "id": "28e4277f",
   "metadata": {},
   "outputs": [
    {
     "ename": "TypeError",
     "evalue": "can only concatenate str (not \"int\") to str",
     "output_type": "error",
     "traceback": [
      "\u001b[1;31m---------------------------------------------------------------------------\u001b[0m",
      "\u001b[1;31mTypeError\u001b[0m                                 Traceback (most recent call last)",
      "Cell \u001b[1;32mIn[63], line 1\u001b[0m\n\u001b[1;32m----> 1\u001b[0m \u001b[38;5;28mprint\u001b[39m(\u001b[38;5;124;43m\"\u001b[39;49m\u001b[38;5;124;43mTotal is\u001b[39;49m\u001b[38;5;124;43m\"\u001b[39;49m\u001b[43m \u001b[49m\u001b[38;5;241;43m+\u001b[39;49m\u001b[43m \u001b[49m\u001b[43my\u001b[49m)\n",
      "\u001b[1;31mTypeError\u001b[0m: can only concatenate str (not \"int\") to str"
     ]
    }
   ],
   "source": [
    "print(\"Total is\" + y)"
   ]
  },
  {
   "cell_type": "code",
   "execution_count": 64,
   "id": "5495609f",
   "metadata": {},
   "outputs": [],
   "source": [
    "# Camel Case"
   ]
  },
  {
   "cell_type": "code",
   "execution_count": 65,
   "id": "e3f50ab8",
   "metadata": {},
   "outputs": [],
   "source": [
    "myDept = \"CSE\""
   ]
  },
  {
   "cell_type": "code",
   "execution_count": 66,
   "id": "ba792e40",
   "metadata": {},
   "outputs": [
    {
     "data": {
      "text/plain": [
       "'CSE'"
      ]
     },
     "execution_count": 66,
     "metadata": {},
     "output_type": "execute_result"
    }
   ],
   "source": [
    "myDept"
   ]
  },
  {
   "cell_type": "code",
   "execution_count": 67,
   "id": "2128d4a2",
   "metadata": {},
   "outputs": [],
   "source": [
    "carBrand = \"Audi\""
   ]
  },
  {
   "cell_type": "code",
   "execution_count": 68,
   "id": "8b8a31fb",
   "metadata": {},
   "outputs": [
    {
     "data": {
      "text/plain": [
       "'Audi'"
      ]
     },
     "execution_count": 68,
     "metadata": {},
     "output_type": "execute_result"
    }
   ],
   "source": [
    "carBrand"
   ]
  },
  {
   "cell_type": "code",
   "execution_count": 69,
   "id": "dfc02307",
   "metadata": {},
   "outputs": [],
   "source": [
    "# Pascal Case"
   ]
  },
  {
   "cell_type": "code",
   "execution_count": 70,
   "id": "d1694a9d",
   "metadata": {},
   "outputs": [],
   "source": [
    "MyName = \"Bharathi\""
   ]
  },
  {
   "cell_type": "code",
   "execution_count": 71,
   "id": "7f73fa60",
   "metadata": {},
   "outputs": [
    {
     "data": {
      "text/plain": [
       "'Bharathi'"
      ]
     },
     "execution_count": 71,
     "metadata": {},
     "output_type": "execute_result"
    }
   ],
   "source": [
    "MyName"
   ]
  },
  {
   "cell_type": "code",
   "execution_count": 72,
   "id": "f9e1e208",
   "metadata": {},
   "outputs": [],
   "source": [
    "MyAge = 26"
   ]
  },
  {
   "cell_type": "code",
   "execution_count": 73,
   "id": "c32b48d5",
   "metadata": {},
   "outputs": [
    {
     "data": {
      "text/plain": [
       "26"
      ]
     },
     "execution_count": 73,
     "metadata": {},
     "output_type": "execute_result"
    }
   ],
   "source": [
    "MyAge"
   ]
  },
  {
   "cell_type": "code",
   "execution_count": 74,
   "id": "34e615fc",
   "metadata": {},
   "outputs": [
    {
     "ename": "NameError",
     "evalue": "name 'myage' is not defined",
     "output_type": "error",
     "traceback": [
      "\u001b[1;31m---------------------------------------------------------------------------\u001b[0m",
      "\u001b[1;31mNameError\u001b[0m                                 Traceback (most recent call last)",
      "Cell \u001b[1;32mIn[74], line 1\u001b[0m\n\u001b[1;32m----> 1\u001b[0m \u001b[43mmyage\u001b[49m\n",
      "\u001b[1;31mNameError\u001b[0m: name 'myage' is not defined"
     ]
    }
   ],
   "source": [
    "myage"
   ]
  },
  {
   "cell_type": "code",
   "execution_count": 75,
   "id": "97451627",
   "metadata": {},
   "outputs": [],
   "source": [
    "# Snake Case"
   ]
  },
  {
   "cell_type": "code",
   "execution_count": 76,
   "id": "e9d53129",
   "metadata": {},
   "outputs": [],
   "source": [
    "my_name = \"Bharathi\""
   ]
  },
  {
   "cell_type": "code",
   "execution_count": 77,
   "id": "c2ecc9ec",
   "metadata": {},
   "outputs": [
    {
     "data": {
      "text/plain": [
       "'Bharathi'"
      ]
     },
     "execution_count": 77,
     "metadata": {},
     "output_type": "execute_result"
    }
   ],
   "source": [
    "my_name\n"
   ]
  },
  {
   "cell_type": "code",
   "execution_count": 78,
   "id": "82d2fd24",
   "metadata": {},
   "outputs": [],
   "source": [
    "my_age = 36"
   ]
  },
  {
   "cell_type": "code",
   "execution_count": 79,
   "id": "544ca8fd",
   "metadata": {},
   "outputs": [
    {
     "data": {
      "text/plain": [
       "36"
      ]
     },
     "execution_count": 79,
     "metadata": {},
     "output_type": "execute_result"
    }
   ],
   "source": [
    "my_age"
   ]
  },
  {
   "cell_type": "code",
   "execution_count": null,
   "id": "d560d21d",
   "metadata": {},
   "outputs": [],
   "source": []
  }
 ],
 "metadata": {
  "kernelspec": {
   "display_name": "Python 3 (ipykernel)",
   "language": "python",
   "name": "python3"
  },
  "language_info": {
   "codemirror_mode": {
    "name": "ipython",
    "version": 3
   },
   "file_extension": ".py",
   "mimetype": "text/x-python",
   "name": "python",
   "nbconvert_exporter": "python",
   "pygments_lexer": "ipython3",
   "version": "3.10.9"
  }
 },
 "nbformat": 4,
 "nbformat_minor": 5
}
