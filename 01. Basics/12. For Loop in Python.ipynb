{
 "cells": [
  {
   "cell_type": "code",
   "execution_count": 1,
   "metadata": {},
   "outputs": [
    {
     "name": "stdout",
     "output_type": "stream",
     "text": [
      "G\n",
      "o\n",
      "k\n",
      "i\n",
      "l\n",
      "a\n",
      " \n",
      "B\n",
      "h\n",
      "a\n",
      "r\n",
      "a\n",
      "t\n",
      "h\n",
      "i\n"
     ]
    }
   ],
   "source": [
    "st = \"Gokila Bharathi\"\n",
    "for i in st:\n",
    "    print(i)"
   ]
  },
  {
   "cell_type": "code",
   "execution_count": 3,
   "metadata": {},
   "outputs": [
    {
     "name": "stdout",
     "output_type": "stream",
     "text": [
      "G*o*k*i*l*a* *B*h*a*r*a*t*h*i*"
     ]
    }
   ],
   "source": [
    "st = \"Gokila Bharathi\"\n",
    "for i in st:\n",
    "    print(i, end=\"*\")"
   ]
  },
  {
   "cell_type": "code",
   "execution_count": 4,
   "metadata": {},
   "outputs": [
    {
     "name": "stdout",
     "output_type": "stream",
     "text": [
      "Python\n",
      "Javascript\n",
      "Java\n",
      "HTML\n"
     ]
    }
   ],
   "source": [
    "# Use For Loop in a List\n",
    "programming = [\"Python\", \"Javascript\", \"Java\", \"HTML\"]\n",
    "for p in programming:\n",
    "    print(p)"
   ]
  },
  {
   "cell_type": "code",
   "execution_count": 5,
   "metadata": {},
   "outputs": [
    {
     "name": "stdout",
     "output_type": "stream",
     "text": [
      "Sum =  150\n",
      "Average =  30.0\n"
     ]
    }
   ],
   "source": [
    "# Find the avg of a list of numbers\n",
    "listNum = [20, 25, 10, 50, 45]\n",
    "sum = 0\n",
    "for i in listNum:\n",
    "    sum += i\n",
    "print(\"Sum = \", sum)\n",
    "print(\"Average = \", sum/len(listNum))\n"
   ]
  },
  {
   "cell_type": "code",
   "execution_count": 6,
   "metadata": {},
   "outputs": [
    {
     "name": "stdout",
     "output_type": "stream",
     "text": [
      "Sum :  255\n",
      "Average :  51.0\n"
     ]
    }
   ],
   "source": [
    "# For Loop using a Tuple\n",
    "tup1 = (30, 45, 60, 50, 70)\n",
    "sum = 0\n",
    "for i in tup1:\n",
    "    sum += i\n",
    "print(\"Sum : \", sum)\n",
    "print(\"Average : \", sum/len(tup1))"
   ]
  },
  {
   "cell_type": "code",
   "execution_count": 7,
   "metadata": {},
   "outputs": [
    {
     "name": "stdout",
     "output_type": "stream",
     "text": [
      "5\n",
      "6\n",
      "7\n",
      "8\n",
      "9\n"
     ]
    }
   ],
   "source": [
    "# Range Function\n",
    "for i in range(5,10):\n",
    "    print(i)"
   ]
  },
  {
   "cell_type": "code",
   "execution_count": 8,
   "metadata": {},
   "outputs": [
    {
     "name": "stdout",
     "output_type": "stream",
     "text": [
      "Display the values with step size of 2:  1\n",
      "Display the values with step size of 2:  3\n",
      "Display the values with step size of 2:  5\n",
      "Display the values with step size of 2:  7\n",
      "Display the values with step size of 2:  9\n"
     ]
    }
   ],
   "source": [
    "for i in range(1, 10, 2):\n",
    "    print(\"Display the values with step size of 2: \", i)"
   ]
  },
  {
   "cell_type": "code",
   "execution_count": 9,
   "metadata": {},
   "outputs": [
    {
     "name": "stdout",
     "output_type": "stream",
     "text": [
      "5 * 1 = 5\n",
      "5 * 2 = 10\n",
      "5 * 3 = 15\n",
      "5 * 4 = 20\n",
      "5 * 5 = 25\n",
      "5 * 6 = 30\n",
      "5 * 7 = 35\n",
      "5 * 8 = 40\n",
      "5 * 9 = 45\n",
      "5 * 10 = 50\n"
     ]
    }
   ],
   "source": [
    "# Program to Print table of given number\n",
    "n = int(input(\"Enter the number: \"))\n",
    "for i in range(1, 11):\n",
    "    mul = n * i\n",
    "    print(n, \"*\", i, \"=\", mul)"
   ]
  },
  {
   "cell_type": "code",
   "execution_count": 11,
   "metadata": {},
   "outputs": [
    {
     "name": "stdout",
     "output_type": "stream",
     "text": [
      "Hello C++\n",
      "Hello Java\n",
      "Hello Python\n",
      "Hello Javscript\n"
     ]
    }
   ],
   "source": [
    "list2 = ['C++', 'Java', 'Python', 'Javscript']\n",
    "for i in range(len(list2)):\n",
    "    print(\"Hello\", list2[i])"
   ]
  },
  {
   "cell_type": "code",
   "execution_count": 14,
   "metadata": {},
   "outputs": [
    {
     "name": "stdout",
     "output_type": "stream",
     "text": [
      "We'll print each letter of Google\n",
      "G\n",
      "o\n",
      "o\n",
      "g\n",
      "l\n",
      "e\n",
      "We'll print each letter of Apple\n",
      "A\n",
      "p\n",
      "p\n",
      "l\n",
      "e\n",
      "We'll print each letter of PWC\n",
      "P\n",
      "W\n",
      "C\n",
      "We'll print each letter of Uber\n",
      "U\n",
      "b\n",
      "e\n",
      "r\n"
     ]
    }
   ],
   "source": [
    "# Nested For Loop in Python\n",
    "companies = ['Google', 'Apple', 'PWC', 'Uber']\n",
    "for comp in companies:\n",
    "    print(\"We'll print each letter of \" + comp)\n",
    "    for char in comp:\n",
    "        print(char)"
   ]
  },
  {
   "cell_type": "code",
   "execution_count": 15,
   "metadata": {},
   "outputs": [
    {
     "name": "stdout",
     "output_type": "stream",
     "text": [
      "0\n",
      "3\n",
      "6\n",
      "9\n",
      "The loop has completed execution\n"
     ]
    }
   ],
   "source": [
    "# For Loop With else Clause\n",
    "for i in range(0, 10, 3):\n",
    "    print(i)\n",
    "else:\n",
    "    print(\"The loop has completed execution\")"
   ]
  },
  {
   "cell_type": "code",
   "execution_count": 16,
   "metadata": {},
   "outputs": [
    {
     "name": "stdout",
     "output_type": "stream",
     "text": [
      "1\n",
      "2\n",
      "3\n",
      "4\n",
      "5\n",
      "6\n"
     ]
    }
   ],
   "source": [
    "# For Loop with break condition\n",
    "for i in range(1, 10):\n",
    "    if i == 6:\n",
    "        break\n",
    "    print(i)\n"
   ]
  },
  {
   "cell_type": "code",
   "execution_count": 17,
   "metadata": {},
   "outputs": [
    {
     "name": "stdout",
     "output_type": "stream",
     "text": [
      "1\n",
      "2\n",
      "3\n",
      "4\n",
      "5\n",
      "7\n",
      "8\n",
      "9\n"
     ]
    }
   ],
   "source": [
    "# For Loop with Continue Condition\n",
    "for i in range(1, 10):\n",
    "    if i == 6:\n",
    "        continue\n",
    "    print(i)\n"
   ]
  },
  {
   "cell_type": "code",
   "execution_count": 18,
   "metadata": {},
   "outputs": [
    {
     "name": "stdout",
     "output_type": "stream",
     "text": [
      "7\n"
     ]
    }
   ],
   "source": [
    "# Program to display the total goals a player has scored\n",
    "player_name = \"Carmelo\"\n",
    "goals = {'Edison': 14, 'Bernat': 3, 'Carmelo': 7}\n",
    "for player in goals:\n",
    "    if player == player_name:\n",
    "        print(goals[player])\n",
    "        break\n",
    "else:\n",
    "    print(\"No Player with that name\")"
   ]
  },
  {
   "cell_type": "code",
   "execution_count": null,
   "metadata": {},
   "outputs": [
    {
     "name": "stdout",
     "output_type": "stream",
     "text": [
      "[8, 125, 343, 64, 512, 216]\n"
     ]
    }
   ],
   "source": [
    "# Cube of numbers using for loop\n",
    "num = [2, 5, 7, 4, 8, 6]\n",
    "cube = []\n",
    "for i in num:\n",
    "    cube.append(i ** 3)\n",
    "print(cube)"
   ]
  },
  {
   "cell_type": "code",
   "execution_count": null,
   "metadata": {},
   "outputs": [
    {
     "name": "stdout",
     "output_type": "stream",
     "text": [
      "*\n",
      "**\n",
      "***\n",
      "****\n",
      "*****\n"
     ]
    }
   ],
   "source": [
    "# Pattern Printing\n",
    "n = int(input(\"Enter the number of rows:\"))\n",
    "for i in range(0, n):\n",
    "    for j in range(0, i+1):\n",
    "        print('*', end=\"\")\n",
    "    print('ENDED')"
   ]
  },
  {
   "cell_type": "code",
   "execution_count": null,
   "metadata": {},
   "outputs": [],
   "source": []
  }
 ],
 "metadata": {
  "kernelspec": {
   "display_name": "Python 3",
   "language": "python",
   "name": "python3"
  },
  "language_info": {
   "codemirror_mode": {
    "name": "ipython",
    "version": 3
   },
   "file_extension": ".py",
   "mimetype": "text/x-python",
   "name": "python",
   "nbconvert_exporter": "python",
   "pygments_lexer": "ipython3",
   "version": "3.11.2"
  },
  "orig_nbformat": 4
 },
 "nbformat": 4,
 "nbformat_minor": 2
}
