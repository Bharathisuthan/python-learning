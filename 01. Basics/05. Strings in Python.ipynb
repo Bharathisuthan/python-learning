{
 "cells": [
  {
   "cell_type": "code",
   "execution_count": 1,
   "id": "242817a9",
   "metadata": {},
   "outputs": [
    {
     "name": "stdout",
     "output_type": "stream",
     "text": [
      "Hi Bharathi\n",
      "<class 'str'>\n"
     ]
    }
   ],
   "source": [
    "str1 = \"Hi Bharathi\"\n",
    "print(str1)\n",
    "print(type(str1))"
   ]
  },
  {
   "cell_type": "code",
   "execution_count": 2,
   "id": "995580e2",
   "metadata": {},
   "outputs": [
    {
     "name": "stdout",
     "output_type": "stream",
     "text": [
      "Hello Gokila\n"
     ]
    }
   ],
   "source": [
    "str2 = \"Hello Gokila\"\n",
    "print(str2)"
   ]
  },
  {
   "cell_type": "code",
   "execution_count": 3,
   "id": "55866a30",
   "metadata": {},
   "outputs": [
    {
     "name": "stdout",
     "output_type": "stream",
     "text": [
      "Hello Everyone,\n",
      "Today We are learning about String in Python\n"
     ]
    }
   ],
   "source": [
    "str3 = '''Hello Everyone,\n",
    "Today We are learning about String in Python'''\n",
    "print(str3)"
   ]
  },
  {
   "cell_type": "code",
   "execution_count": 4,
   "id": "3a0cedd7",
   "metadata": {},
   "outputs": [
    {
     "name": "stdout",
     "output_type": "stream",
     "text": [
      "B\n",
      "G\n"
     ]
    }
   ],
   "source": [
    "# Indexing\n",
    "\n",
    "str1 = \"Bharathi Gokila\"\n",
    "print(str1[0])\n",
    "print(str1[9])"
   ]
  },
  {
   "cell_type": "code",
   "execution_count": 5,
   "id": "e0dca5bb",
   "metadata": {},
   "outputs": [],
   "source": [
    "# Slicing Operator"
   ]
  },
  {
   "cell_type": "code",
   "execution_count": 7,
   "id": "cc3cd601",
   "metadata": {},
   "outputs": [
    {
     "name": "stdout",
     "output_type": "stream",
     "text": [
      "Gokila\n"
     ]
    }
   ],
   "source": [
    "print(str1[9:])"
   ]
  },
  {
   "cell_type": "code",
   "execution_count": 8,
   "id": "adde44de",
   "metadata": {},
   "outputs": [
    {
     "name": "stdout",
     "output_type": "stream",
     "text": [
      "alikoG ihtarahB\n"
     ]
    }
   ],
   "source": [
    "print(str1[::-1])"
   ]
  },
  {
   "cell_type": "code",
   "execution_count": 9,
   "id": "963d7f67",
   "metadata": {},
   "outputs": [
    {
     "name": "stdout",
     "output_type": "stream",
     "text": [
      "a\n"
     ]
    }
   ],
   "source": [
    "print(str1[-1])"
   ]
  },
  {
   "cell_type": "code",
   "execution_count": 12,
   "id": "b05c3604",
   "metadata": {},
   "outputs": [
    {
     "name": "stdout",
     "output_type": "stream",
     "text": [
      "l\n"
     ]
    }
   ],
   "source": [
    "print(str1[-2])"
   ]
  },
  {
   "cell_type": "code",
   "execution_count": 13,
   "id": "3df6ac26",
   "metadata": {},
   "outputs": [
    {
     "data": {
      "text/plain": [
       "'Bharathi Gokila'"
      ]
     },
     "execution_count": 13,
     "metadata": {},
     "output_type": "execute_result"
    }
   ],
   "source": [
    "# Reassign Strings\n",
    "\n",
    "str1"
   ]
  },
  {
   "cell_type": "code",
   "execution_count": 14,
   "id": "1e447060",
   "metadata": {},
   "outputs": [
    {
     "ename": "TypeError",
     "evalue": "'str' object does not support item assignment",
     "output_type": "error",
     "traceback": [
      "\u001b[1;31m---------------------------------------------------------------------------\u001b[0m",
      "\u001b[1;31mTypeError\u001b[0m                                 Traceback (most recent call last)",
      "Cell \u001b[1;32mIn[14], line 1\u001b[0m\n\u001b[1;32m----> 1\u001b[0m str1[\u001b[38;5;241m1\u001b[39m] \u001b[38;5;241m=\u001b[39m \u001b[38;5;124m'\u001b[39m\u001b[38;5;124mH\u001b[39m\u001b[38;5;124m'\u001b[39m\n\u001b[0;32m      2\u001b[0m \u001b[38;5;28mprint\u001b[39m(str1)\n",
      "\u001b[1;31mTypeError\u001b[0m: 'str' object does not support item assignment"
     ]
    }
   ],
   "source": [
    "str1[1] = 'H'\n",
    "print(str1)"
   ]
  },
  {
   "cell_type": "code",
   "execution_count": 15,
   "id": "f247123e",
   "metadata": {},
   "outputs": [
    {
     "name": "stdout",
     "output_type": "stream",
     "text": [
      "Python\n"
     ]
    },
    {
     "ename": "NameError",
     "evalue": "name 'str2' is not defined",
     "output_type": "error",
     "traceback": [
      "\u001b[1;31m---------------------------------------------------------------------------\u001b[0m",
      "\u001b[1;31mNameError\u001b[0m                                 Traceback (most recent call last)",
      "Cell \u001b[1;32mIn[15], line 5\u001b[0m\n\u001b[0;32m      3\u001b[0m \u001b[38;5;28mprint\u001b[39m(str2)\n\u001b[0;32m      4\u001b[0m \u001b[38;5;28;01mdel\u001b[39;00m str2\n\u001b[1;32m----> 5\u001b[0m \u001b[38;5;28mprint\u001b[39m(\u001b[43mstr2\u001b[49m)\n",
      "\u001b[1;31mNameError\u001b[0m: name 'str2' is not defined"
     ]
    }
   ],
   "source": [
    "# Delete String\n",
    "str2 = 'Python'\n",
    "print(str2)\n",
    "del str2\n",
    "print(str2)"
   ]
  },
  {
   "cell_type": "code",
   "execution_count": 17,
   "id": "56b03c9d",
   "metadata": {},
   "outputs": [],
   "source": [
    "# String Operations\n",
    "str1 = \"Python\"\n",
    "str2 = 'Programing'\n"
   ]
  },
  {
   "cell_type": "code",
   "execution_count": 18,
   "id": "4c499303",
   "metadata": {},
   "outputs": [
    {
     "data": {
      "text/plain": [
       "'PythonPythonPython'"
      ]
     },
     "execution_count": 18,
     "metadata": {},
     "output_type": "execute_result"
    }
   ],
   "source": [
    "str1 * 3"
   ]
  },
  {
   "cell_type": "code",
   "execution_count": 19,
   "id": "7a31acbc",
   "metadata": {},
   "outputs": [
    {
     "data": {
      "text/plain": [
       "'PythonPython'"
      ]
     },
     "execution_count": 19,
     "metadata": {},
     "output_type": "execute_result"
    }
   ],
   "source": [
    "str1 + str1"
   ]
  },
  {
   "cell_type": "code",
   "execution_count": 20,
   "id": "ca9e453c",
   "metadata": {},
   "outputs": [
    {
     "data": {
      "text/plain": [
       "'PythonPrograming'"
      ]
     },
     "execution_count": 20,
     "metadata": {},
     "output_type": "execute_result"
    }
   ],
   "source": [
    "str1 + str2"
   ]
  },
  {
   "cell_type": "code",
   "execution_count": 22,
   "id": "f057dde8",
   "metadata": {},
   "outputs": [
    {
     "name": "stdout",
     "output_type": "stream",
     "text": [
      "False\n"
     ]
    }
   ],
   "source": [
    "print('p' in str1)"
   ]
  },
  {
   "cell_type": "code",
   "execution_count": 23,
   "id": "fceb40c5",
   "metadata": {},
   "outputs": [
    {
     "name": "stdout",
     "output_type": "stream",
     "text": [
      "True\n"
     ]
    }
   ],
   "source": [
    "print('P' in str1)"
   ]
  },
  {
   "cell_type": "code",
   "execution_count": 24,
   "id": "d27dc513",
   "metadata": {},
   "outputs": [
    {
     "name": "stdout",
     "output_type": "stream",
     "text": [
      "False\n"
     ]
    }
   ],
   "source": [
    "print('w' in str1)"
   ]
  },
  {
   "cell_type": "code",
   "execution_count": 26,
   "id": "a47b73a6",
   "metadata": {},
   "outputs": [
    {
     "name": "stdout",
     "output_type": "stream",
     "text": [
      "False\n"
     ]
    }
   ],
   "source": [
    "print('pro' in str2)"
   ]
  },
  {
   "cell_type": "code",
   "execution_count": 28,
   "id": "4558a6d3",
   "metadata": {},
   "outputs": [
    {
     "name": "stdout",
     "output_type": "stream",
     "text": [
      "True\n"
     ]
    }
   ],
   "source": [
    "print('Pro' in str2)"
   ]
  },
  {
   "cell_type": "code",
   "execution_count": 29,
   "id": "7945a10e",
   "metadata": {},
   "outputs": [
    {
     "name": "stdout",
     "output_type": "stream",
     "text": [
      "c://pyton3.7\n"
     ]
    }
   ],
   "source": [
    "print('c://pyton3.7')"
   ]
  },
  {
   "cell_type": "code",
   "execution_count": 32,
   "id": "7f23c1c6",
   "metadata": {},
   "outputs": [
    {
     "name": "stdout",
     "output_type": "stream",
     "text": [
      "c://pyton3.7\n"
     ]
    }
   ],
   "source": [
    "# Print Raw String\n",
    "print(r'c://pyton3.7')"
   ]
  },
  {
   "cell_type": "code",
   "execution_count": 35,
   "id": "c1dc6352",
   "metadata": {},
   "outputs": [
    {
     "name": "stdout",
     "output_type": "stream",
     "text": [
      "James and Brado are best friends.\n"
     ]
    }
   ],
   "source": [
    "# Format Methods\n",
    "print(\"{} and {} are best friends.\".format(\"James\", \"Brado\"))"
   ]
  },
  {
   "cell_type": "code",
   "execution_count": 36,
   "id": "27b8f87b",
   "metadata": {},
   "outputs": [
    {
     "name": "stdout",
     "output_type": "stream",
     "text": [
      "Brado and James are best friends.\n"
     ]
    }
   ],
   "source": [
    "print(\"{1} and {0} are best friends.\".format(\"James\", \"Brado\"))"
   ]
  },
  {
   "cell_type": "code",
   "execution_count": 37,
   "id": "62860c71",
   "metadata": {},
   "outputs": [
    {
     "name": "stdout",
     "output_type": "stream",
     "text": [
      "James and Brado are best friends.\n"
     ]
    }
   ],
   "source": [
    "print(\"{a} and {b} are best friends.\".format(a = \"James\", b = \"Brado\"))"
   ]
  },
  {
   "cell_type": "code",
   "execution_count": 40,
   "id": "77c76d00",
   "metadata": {},
   "outputs": [
    {
     "name": "stdout",
     "output_type": "stream",
     "text": [
      "Here name is Angela\n",
      "Her Salary is 100000\n"
     ]
    }
   ],
   "source": [
    "name = \"Angela\"\n",
    "salary = 100000\n",
    "print(\"Here name is %s\\nHer Salary is %d\"%(name, salary))"
   ]
  },
  {
   "cell_type": "code",
   "execution_count": 43,
   "id": "1e4a2493",
   "metadata": {},
   "outputs": [
    {
     "name": "stdout",
     "output_type": "stream",
     "text": [
      "Old Value: bharathiraja\n",
      "New Value: Bharathiraja\n"
     ]
    }
   ],
   "source": [
    "str1 = \"bharathiraja\"\n",
    "str2 = str1.capitalize()\n",
    "print(\"Old Value: %s\"%(str1))\n",
    "print(\"New Value: %s\"%(str2))"
   ]
  },
  {
   "cell_type": "code",
   "execution_count": 44,
   "id": "42e3efce",
   "metadata": {},
   "outputs": [
    {
     "name": "stdout",
     "output_type": "stream",
     "text": [
      "Old Value: BHARATHIRAJA\n",
      "New Value: bharathiraja\n"
     ]
    }
   ],
   "source": [
    "str1 = \"BHARATHIRAJA\"\n",
    "str2 = str1.casefold()\n",
    "print(\"Old Value: %s\"%(str1))\n",
    "print(\"New Value: %s\"%(str2))"
   ]
  },
  {
   "cell_type": "code",
   "execution_count": 46,
   "id": "dee40760",
   "metadata": {},
   "outputs": [
    {
     "name": "stdout",
     "output_type": "stream",
     "text": [
      "Old Value: BharAthiraja\n",
      "New Value: BHARATHIRAJA\n"
     ]
    }
   ],
   "source": [
    "str1 = \"BharAthiraja\"\n",
    "str2 = str1.upper()\n",
    "print(\"Old Value: %s\"%(str1))\n",
    "print(\"New Value: %s\"%(str2))"
   ]
  },
  {
   "cell_type": "code",
   "execution_count": 47,
   "id": "29d5913f",
   "metadata": {},
   "outputs": [
    {
     "name": "stdout",
     "output_type": "stream",
     "text": [
      "Old Value: BharAthiraja\n",
      "New Value: bharathiraja\n"
     ]
    }
   ],
   "source": [
    "str1 = \"BharAthiraja\"\n",
    "str2 = str1.lower()\n",
    "print(\"Old Value: %s\"%(str1))\n",
    "print(\"New Value: %s\"%(str2))"
   ]
  },
  {
   "cell_type": "code",
   "execution_count": 48,
   "id": "923b5b49",
   "metadata": {},
   "outputs": [
    {
     "name": "stdout",
     "output_type": "stream",
     "text": [
      "Old Value: BharAthi raja\n",
      "New Value: Bharathi Raja\n"
     ]
    }
   ],
   "source": [
    "str1 = \"BharAthi raja\"\n",
    "str2 = str1.title()\n",
    "print(\"Old Value: %s\"%(str1))\n",
    "print(\"New Value: %s\"%(str2))"
   ]
  },
  {
   "cell_type": "code",
   "execution_count": 50,
   "id": "e9da87d9",
   "metadata": {},
   "outputs": [
    {
     "name": "stdout",
     "output_type": "stream",
     "text": [
      "R Occurances: 0 Times\n",
      "r Occurances: 2 Times\n",
      "a Occurances: 4 Times\n",
      "A Occurances: 0 Times\n"
     ]
    }
   ],
   "source": [
    "str1 = \"Bharathiraja\"\n",
    "print(\"R Occurances: %d Times\"%(str1.count('R')))\n",
    "print(\"r Occurances: %d Times\"%(str1.count('r')))\n",
    "print(\"a Occurances: %d Times\"%(str1.count('a')))\n",
    "print(\"A Occurances: %d Times\"%(str1.count('A')))"
   ]
  },
  {
   "cell_type": "code",
   "execution_count": 51,
   "id": "29e7fc9a",
   "metadata": {},
   "outputs": [
    {
     "name": "stdout",
     "output_type": "stream",
     "text": [
      "My name is Gokila\n"
     ]
    }
   ],
   "source": [
    "str1 = \"My name is Bharathi\"\n",
    "str2 = str1.replace(\"Bharathi\", \"Gokila\")\n",
    "print(str2)"
   ]
  },
  {
   "cell_type": "code",
   "execution_count": 53,
   "id": "27e0cb54",
   "metadata": {},
   "outputs": [
    {
     "name": "stdout",
     "output_type": "stream",
     "text": [
      "My name is Bharathi\n",
      "['My', 'name', 'is', 'Bharathi']\n"
     ]
    }
   ],
   "source": [
    "str1 = \"My name is Bharathi\"\n",
    "str2 = str1.split()\n",
    "print(str1)\n",
    "print(str2)"
   ]
  },
  {
   "cell_type": "code",
   "execution_count": null,
   "id": "5e7d826e",
   "metadata": {},
   "outputs": [],
   "source": []
  }
 ],
 "metadata": {
  "kernelspec": {
   "display_name": "Python 3 (ipykernel)",
   "language": "python",
   "name": "python3"
  },
  "language_info": {
   "codemirror_mode": {
    "name": "ipython",
    "version": 3
   },
   "file_extension": ".py",
   "mimetype": "text/x-python",
   "name": "python",
   "nbconvert_exporter": "python",
   "pygments_lexer": "ipython3",
   "version": "3.10.9"
  }
 },
 "nbformat": 4,
 "nbformat_minor": 5
}
