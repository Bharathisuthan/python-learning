{
 "cells": [
  {
   "attachments": {},
   "cell_type": "markdown",
   "metadata": {},
   "source": [
    "# Map Function\n"
   ]
  },
  {
   "cell_type": "code",
   "execution_count": 4,
   "metadata": {},
   "outputs": [
    {
     "name": "stdout",
     "output_type": "stream",
     "text": [
      "<map object at 0x0000019685B25D20>\n",
      "[8, 10, 12, 16]\n"
     ]
    }
   ],
   "source": [
    "def add(a):\n",
    "    return a + a\n",
    "\n",
    "\n",
    "numbers = (4, 5, 6, 8)\n",
    "out = map(add, numbers)\n",
    "print(out)\n",
    "print(list(out))\n"
   ]
  },
  {
   "cell_type": "code",
   "execution_count": 5,
   "metadata": {},
   "outputs": [
    {
     "name": "stdout",
     "output_type": "stream",
     "text": [
      "<map object at 0x0000019685B271F0>\n",
      "[16, 36, 64, 81]\n"
     ]
    }
   ],
   "source": [
    "numbers = (4, 6, 8, 9)\n",
    "out = map(lambda a: a*a, numbers)\n",
    "print(out)\n",
    "print(list(out))\n"
   ]
  },
  {
   "cell_type": "code",
   "execution_count": 6,
   "metadata": {},
   "outputs": [
    {
     "name": "stdout",
     "output_type": "stream",
     "text": [
      "<map object at 0x0000019685B260B0>\n",
      "['PEN', 'BOOKS', 'PHONE']\n"
     ]
    }
   ],
   "source": [
    "mapObj = map(str.upper, ['pen', 'books', 'phone'])\n",
    "print(mapObj)\n",
    "print(list(mapObj))\n"
   ]
  },
  {
   "cell_type": "code",
   "execution_count": 7,
   "metadata": {},
   "outputs": [
    {
     "name": "stdout",
     "output_type": "stream",
     "text": [
      "<map object at 0x0000019685B25A50>\n",
      "[3, 5, 6, 7]\n"
     ]
    }
   ],
   "source": [
    "mapObj = map(lambda x: len(x), ['pen', 'books', 'iphone', 'laptops'])\n",
    "print(mapObj)\n",
    "print(list(mapObj))\n"
   ]
  },
  {
   "attachments": {},
   "cell_type": "markdown",
   "metadata": {},
   "source": [
    "# Filter Function\n"
   ]
  },
  {
   "cell_type": "code",
   "execution_count": 8,
   "metadata": {},
   "outputs": [
    {
     "name": "stdout",
     "output_type": "stream",
     "text": [
      "[6, 8]\n"
     ]
    }
   ],
   "source": [
    "def filt(a):\n",
    "    if a > 5:\n",
    "        return a\n",
    "\n",
    "\n",
    "out = filter(filt, (1, 2, 4, 6, 8, 4))\n",
    "print(list(out))\n"
   ]
  },
  {
   "cell_type": "code",
   "execution_count": 9,
   "metadata": {},
   "outputs": [
    {
     "name": "stdout",
     "output_type": "stream",
     "text": [
      "[6, 8]\n"
     ]
    }
   ],
   "source": [
    "out = filter(lambda x: x > 5, (1, 2, 4, 6, 8, 4))\n",
    "print(list(out))\n"
   ]
  },
  {
   "cell_type": "code",
   "execution_count": 10,
   "metadata": {},
   "outputs": [
    {
     "name": "stdout",
     "output_type": "stream",
     "text": [
      "['peas', 'ginger', 'beetroot']\n"
     ]
    }
   ],
   "source": [
    "def veggiesWithE(x):\n",
    "    return 'e' in x\n",
    "\n",
    "\n",
    "out = filter(veggiesWithE, ['peas', 'ginger', 'garlic', 'beetroot', 'carrot'])\n",
    "print(list(out))\n"
   ]
  },
  {
   "cell_type": "code",
   "execution_count": 11,
   "metadata": {},
   "outputs": [
    {
     "name": "stdout",
     "output_type": "stream",
     "text": [
      "['peas', 'ginger', 'beetroot']\n"
     ]
    }
   ],
   "source": [
    "out = filter(lambda x: 'e' in x, [\n",
    "             'peas', 'ginger', 'garlic', 'beetroot', 'carrot'])\n",
    "print(list(out))\n"
   ]
  },
  {
   "attachments": {},
   "cell_type": "markdown",
   "metadata": {},
   "source": [
    "# Reduce Function\n"
   ]
  },
  {
   "cell_type": "code",
   "execution_count": 16,
   "metadata": {},
   "outputs": [],
   "source": [
    "from functools import reduce"
   ]
  },
  {
   "cell_type": "code",
   "execution_count": 17,
   "metadata": {},
   "outputs": [
    {
     "name": "stdout",
     "output_type": "stream",
     "text": [
      "120\n",
      "480\n"
     ]
    }
   ],
   "source": [
    "sum = reduce(lambda a, b: a + b, [10, 35, 50, 25])\n",
    "print(sum)\n",
    "multip = reduce(lambda a, b: a * b, [5, 3, 4, 8])\n",
    "print(multip)\n"
   ]
  },
  {
   "cell_type": "code",
   "execution_count": 18,
   "metadata": {},
   "outputs": [
    {
     "name": "stdout",
     "output_type": "stream",
     "text": [
      "120\n"
     ]
    }
   ],
   "source": [
    "def customSum(a, b):\n",
    "    return a + b\n",
    "\n",
    "\n",
    "sum = reduce(customSum, [10, 35, 50, 25])\n",
    "\n",
    "print(sum)\n"
   ]
  },
  {
   "cell_type": "code",
   "execution_count": null,
   "metadata": {},
   "outputs": [],
   "source": []
  }
 ],
 "metadata": {
  "kernelspec": {
   "display_name": "Python 3",
   "language": "python",
   "name": "python3"
  },
  "language_info": {
   "codemirror_mode": {
    "name": "ipython",
    "version": 3
   },
   "file_extension": ".py",
   "mimetype": "text/x-python",
   "name": "python",
   "nbconvert_exporter": "python",
   "pygments_lexer": "ipython3",
   "version": "3.11.2"
  },
  "orig_nbformat": 4
 },
 "nbformat": 4,
 "nbformat_minor": 2
}
