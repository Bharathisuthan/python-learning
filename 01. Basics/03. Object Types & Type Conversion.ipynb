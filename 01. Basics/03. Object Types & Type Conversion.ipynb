{
 "cells": [
  {
   "cell_type": "code",
   "execution_count": 8,
   "id": "8b42ef9b",
   "metadata": {},
   "outputs": [
    {
     "name": "stdout",
     "output_type": "stream",
     "text": [
      "24.4\n",
      "148.8\n"
     ]
    }
   ],
   "source": [
    "# Number Objects \n",
    "num1 = 12\n",
    "num2 = 12.4\n",
    "add = num1 + num2\n",
    "print(add)\n",
    "mult = num1 * num2\n",
    "print(mult)"
   ]
  },
  {
   "cell_type": "code",
   "execution_count": 4,
   "id": "76a74926",
   "metadata": {},
   "outputs": [
    {
     "data": {
      "text/plain": [
       "8"
      ]
     },
     "execution_count": 4,
     "metadata": {},
     "output_type": "execute_result"
    }
   ],
   "source": [
    "2**3"
   ]
  },
  {
   "cell_type": "code",
   "execution_count": 5,
   "id": "a6730925",
   "metadata": {},
   "outputs": [
    {
     "data": {
      "text/plain": [
       "16"
      ]
     },
     "execution_count": 5,
     "metadata": {},
     "output_type": "execute_result"
    }
   ],
   "source": [
    "2**4"
   ]
  },
  {
   "cell_type": "code",
   "execution_count": 6,
   "id": "5b6f2131",
   "metadata": {},
   "outputs": [
    {
     "data": {
      "text/plain": [
       "3.141592653589793"
      ]
     },
     "execution_count": 6,
     "metadata": {},
     "output_type": "execute_result"
    }
   ],
   "source": [
    "import math\n",
    "math.pi"
   ]
  },
  {
   "cell_type": "code",
   "execution_count": 7,
   "id": "a80bde74",
   "metadata": {},
   "outputs": [
    {
     "data": {
      "text/plain": [
       "0.7333957864636629"
      ]
     },
     "execution_count": 7,
     "metadata": {},
     "output_type": "execute_result"
    }
   ],
   "source": [
    "import random\n",
    "random.random()"
   ]
  },
  {
   "cell_type": "code",
   "execution_count": 9,
   "id": "cf5aab92",
   "metadata": {},
   "outputs": [],
   "source": [
    "# String Objects"
   ]
  },
  {
   "cell_type": "code",
   "execution_count": 11,
   "id": "d69ae192",
   "metadata": {},
   "outputs": [],
   "source": [
    "myLove = \"Gokila\""
   ]
  },
  {
   "cell_type": "code",
   "execution_count": 12,
   "id": "40bb4658",
   "metadata": {},
   "outputs": [
    {
     "data": {
      "text/plain": [
       "'Gokila'"
      ]
     },
     "execution_count": 12,
     "metadata": {},
     "output_type": "execute_result"
    }
   ],
   "source": [
    "myLove"
   ]
  },
  {
   "cell_type": "code",
   "execution_count": 13,
   "id": "73e22a38",
   "metadata": {},
   "outputs": [
    {
     "data": {
      "text/plain": [
       "'G'"
      ]
     },
     "execution_count": 13,
     "metadata": {},
     "output_type": "execute_result"
    }
   ],
   "source": [
    "myLove[0]"
   ]
  },
  {
   "cell_type": "code",
   "execution_count": 14,
   "id": "5e008048",
   "metadata": {},
   "outputs": [
    {
     "data": {
      "text/plain": [
       "'o'"
      ]
     },
     "execution_count": 14,
     "metadata": {},
     "output_type": "execute_result"
    }
   ],
   "source": [
    "myLove[1]"
   ]
  },
  {
   "cell_type": "code",
   "execution_count": 15,
   "id": "b528c84e",
   "metadata": {},
   "outputs": [
    {
     "data": {
      "text/plain": [
       "'k'"
      ]
     },
     "execution_count": 15,
     "metadata": {},
     "output_type": "execute_result"
    }
   ],
   "source": [
    "myLove[2]"
   ]
  },
  {
   "cell_type": "code",
   "execution_count": 16,
   "id": "17dddab9",
   "metadata": {},
   "outputs": [
    {
     "data": {
      "text/plain": [
       "'a'"
      ]
     },
     "execution_count": 16,
     "metadata": {},
     "output_type": "execute_result"
    }
   ],
   "source": [
    "myLove[-1]"
   ]
  },
  {
   "cell_type": "code",
   "execution_count": 17,
   "id": "c1149940",
   "metadata": {},
   "outputs": [
    {
     "data": {
      "text/plain": [
       "'okila'"
      ]
     },
     "execution_count": 17,
     "metadata": {},
     "output_type": "execute_result"
    }
   ],
   "source": [
    "myLove[1:]"
   ]
  },
  {
   "cell_type": "code",
   "execution_count": 18,
   "id": "be0bf6e5",
   "metadata": {},
   "outputs": [
    {
     "name": "stdout",
     "output_type": "stream",
     "text": [
      "GokilaBharathi\n"
     ]
    }
   ],
   "source": [
    "print(myLove + \"Bharathi\")"
   ]
  },
  {
   "cell_type": "code",
   "execution_count": 19,
   "id": "814552e3",
   "metadata": {},
   "outputs": [
    {
     "data": {
      "text/plain": [
       "'GokilaGokilaGokila'"
      ]
     },
     "execution_count": 19,
     "metadata": {},
     "output_type": "execute_result"
    }
   ],
   "source": [
    "myLove * 3"
   ]
  },
  {
   "cell_type": "code",
   "execution_count": 20,
   "id": "6bfa6881",
   "metadata": {},
   "outputs": [
    {
     "data": {
      "text/plain": [
       "'Gokilamirtham'"
      ]
     },
     "execution_count": 20,
     "metadata": {},
     "output_type": "execute_result"
    }
   ],
   "source": [
    "myLove.replace('a', 'amirtham')"
   ]
  },
  {
   "cell_type": "code",
   "execution_count": 21,
   "id": "7d9f14e5",
   "metadata": {},
   "outputs": [],
   "source": [
    "# List Objects"
   ]
  },
  {
   "cell_type": "code",
   "execution_count": 22,
   "id": "304e5092",
   "metadata": {},
   "outputs": [
    {
     "data": {
      "text/plain": [
       "[12, 'India', 20.34]"
      ]
     },
     "execution_count": 22,
     "metadata": {},
     "output_type": "execute_result"
    }
   ],
   "source": [
    "L1 = [12, \"India\", 20.34]\n",
    "L1"
   ]
  },
  {
   "cell_type": "code",
   "execution_count": 23,
   "id": "08dc6d22",
   "metadata": {},
   "outputs": [
    {
     "data": {
      "text/plain": [
       "3"
      ]
     },
     "execution_count": 23,
     "metadata": {},
     "output_type": "execute_result"
    }
   ],
   "source": [
    "len(L1)"
   ]
  },
  {
   "cell_type": "code",
   "execution_count": 25,
   "id": "f401b595",
   "metadata": {},
   "outputs": [
    {
     "data": {
      "text/plain": [
       "'India'"
      ]
     },
     "execution_count": 25,
     "metadata": {},
     "output_type": "execute_result"
    }
   ],
   "source": [
    "L1[1]"
   ]
  },
  {
   "cell_type": "code",
   "execution_count": 26,
   "id": "6a93223a",
   "metadata": {},
   "outputs": [
    {
     "data": {
      "text/plain": [
       "[12, 'India']"
      ]
     },
     "execution_count": 26,
     "metadata": {},
     "output_type": "execute_result"
    }
   ],
   "source": [
    "L1[:-1]"
   ]
  },
  {
   "cell_type": "code",
   "execution_count": 27,
   "id": "9d721700",
   "metadata": {},
   "outputs": [],
   "source": [
    "L1.append('Country')"
   ]
  },
  {
   "cell_type": "code",
   "execution_count": 28,
   "id": "69498395",
   "metadata": {},
   "outputs": [
    {
     "data": {
      "text/plain": [
       "[12, 'India', 20.34, 'Country']"
      ]
     },
     "execution_count": 28,
     "metadata": {},
     "output_type": "execute_result"
    }
   ],
   "source": [
    "L1"
   ]
  },
  {
   "cell_type": "code",
   "execution_count": 29,
   "id": "a6fd6905",
   "metadata": {},
   "outputs": [
    {
     "data": {
      "text/plain": [
       "'Country'"
      ]
     },
     "execution_count": 29,
     "metadata": {},
     "output_type": "execute_result"
    }
   ],
   "source": [
    "L1.pop()"
   ]
  },
  {
   "cell_type": "code",
   "execution_count": 30,
   "id": "787f24ec",
   "metadata": {},
   "outputs": [
    {
     "data": {
      "text/plain": [
       "[12, 'India', 20.34]"
      ]
     },
     "execution_count": 30,
     "metadata": {},
     "output_type": "execute_result"
    }
   ],
   "source": [
    "L1"
   ]
  },
  {
   "cell_type": "code",
   "execution_count": 31,
   "id": "e07b0ffc",
   "metadata": {},
   "outputs": [
    {
     "data": {
      "text/plain": [
       "'India'"
      ]
     },
     "execution_count": 31,
     "metadata": {},
     "output_type": "execute_result"
    }
   ],
   "source": [
    "L1.pop(1)"
   ]
  },
  {
   "cell_type": "code",
   "execution_count": 32,
   "id": "4269e403",
   "metadata": {},
   "outputs": [
    {
     "data": {
      "text/plain": [
       "[12, 20.34]"
      ]
     },
     "execution_count": 32,
     "metadata": {},
     "output_type": "execute_result"
    }
   ],
   "source": [
    "L1"
   ]
  },
  {
   "cell_type": "code",
   "execution_count": 33,
   "id": "5ffc5232",
   "metadata": {},
   "outputs": [],
   "source": [
    "L1.reverse()"
   ]
  },
  {
   "cell_type": "code",
   "execution_count": 34,
   "id": "9d520a44",
   "metadata": {},
   "outputs": [
    {
     "data": {
      "text/plain": [
       "[20.34, 12]"
      ]
     },
     "execution_count": 34,
     "metadata": {},
     "output_type": "execute_result"
    }
   ],
   "source": [
    "L1"
   ]
  },
  {
   "cell_type": "code",
   "execution_count": 35,
   "id": "338d8b27",
   "metadata": {},
   "outputs": [],
   "source": [
    "L1.sort()"
   ]
  },
  {
   "cell_type": "code",
   "execution_count": 36,
   "id": "92334ade",
   "metadata": {},
   "outputs": [
    {
     "data": {
      "text/plain": [
       "[12, 20.34]"
      ]
     },
     "execution_count": 36,
     "metadata": {},
     "output_type": "execute_result"
    }
   ],
   "source": [
    "L1"
   ]
  },
  {
   "cell_type": "code",
   "execution_count": 46,
   "id": "1dd575c2",
   "metadata": {},
   "outputs": [],
   "source": [
    "# Dictionary Objects"
   ]
  },
  {
   "cell_type": "code",
   "execution_count": 38,
   "id": "21c326da",
   "metadata": {},
   "outputs": [],
   "source": [
    "dict1 = {1: \"Tiger\", 2: \"Lion\", 3: \"Snake\"}"
   ]
  },
  {
   "cell_type": "code",
   "execution_count": 39,
   "id": "09e3eb5d",
   "metadata": {},
   "outputs": [
    {
     "data": {
      "text/plain": [
       "3"
      ]
     },
     "execution_count": 39,
     "metadata": {},
     "output_type": "execute_result"
    }
   ],
   "source": [
    "len(dict1)"
   ]
  },
  {
   "cell_type": "code",
   "execution_count": 40,
   "id": "d6667575",
   "metadata": {},
   "outputs": [
    {
     "data": {
      "text/plain": [
       "dict_keys([1, 2, 3])"
      ]
     },
     "execution_count": 40,
     "metadata": {},
     "output_type": "execute_result"
    }
   ],
   "source": [
    "dict1.keys()"
   ]
  },
  {
   "cell_type": "code",
   "execution_count": 43,
   "id": "4467add1",
   "metadata": {},
   "outputs": [
    {
     "data": {
      "text/plain": [
       "dict_values(['Tiger', 'Lion', 'Snake'])"
      ]
     },
     "execution_count": 43,
     "metadata": {},
     "output_type": "execute_result"
    }
   ],
   "source": [
    "dict1.values()"
   ]
  },
  {
   "cell_type": "code",
   "execution_count": 44,
   "id": "97294ada",
   "metadata": {},
   "outputs": [],
   "source": [
    "dict1[4] = 'Cat'"
   ]
  },
  {
   "cell_type": "code",
   "execution_count": 45,
   "id": "131c50f6",
   "metadata": {},
   "outputs": [
    {
     "data": {
      "text/plain": [
       "{1: 'Tiger', 2: 'Lion', 3: 'Snake', 4: 'Cat'}"
      ]
     },
     "execution_count": 45,
     "metadata": {},
     "output_type": "execute_result"
    }
   ],
   "source": [
    "dict1"
   ]
  },
  {
   "cell_type": "code",
   "execution_count": 47,
   "id": "7def462c",
   "metadata": {},
   "outputs": [],
   "source": [
    "# Tuple Objects"
   ]
  },
  {
   "cell_type": "code",
   "execution_count": 48,
   "id": "d5ffa46d",
   "metadata": {},
   "outputs": [],
   "source": [
    "tup1 = (1,2,3,4,5)"
   ]
  },
  {
   "cell_type": "code",
   "execution_count": 49,
   "id": "4a734039",
   "metadata": {},
   "outputs": [
    {
     "data": {
      "text/plain": [
       "5"
      ]
     },
     "execution_count": 49,
     "metadata": {},
     "output_type": "execute_result"
    }
   ],
   "source": [
    "len(tup1)"
   ]
  },
  {
   "cell_type": "code",
   "execution_count": 50,
   "id": "76eb13ba",
   "metadata": {},
   "outputs": [],
   "source": [
    "tup2 = (4,5,6,7,8)"
   ]
  },
  {
   "cell_type": "code",
   "execution_count": 51,
   "id": "b506485c",
   "metadata": {},
   "outputs": [
    {
     "data": {
      "text/plain": [
       "5"
      ]
     },
     "execution_count": 51,
     "metadata": {},
     "output_type": "execute_result"
    }
   ],
   "source": [
    "len(tup2)"
   ]
  },
  {
   "cell_type": "code",
   "execution_count": 52,
   "id": "a838cfcc",
   "metadata": {},
   "outputs": [
    {
     "name": "stdout",
     "output_type": "stream",
     "text": [
      "(1, 2, 3, 4, 5, 4, 5, 6, 7, 8)\n"
     ]
    }
   ],
   "source": [
    "print(tup1 + tup2)"
   ]
  },
  {
   "cell_type": "code",
   "execution_count": 53,
   "id": "3f48c4e3",
   "metadata": {},
   "outputs": [],
   "source": [
    "tup3 = tup1 + tup2"
   ]
  },
  {
   "cell_type": "code",
   "execution_count": 55,
   "id": "d59b8777",
   "metadata": {},
   "outputs": [
    {
     "data": {
      "text/plain": [
       "4"
      ]
     },
     "execution_count": 55,
     "metadata": {},
     "output_type": "execute_result"
    }
   ],
   "source": [
    "tup3[3]"
   ]
  },
  {
   "cell_type": "code",
   "execution_count": 56,
   "id": "d4b3c8f1",
   "metadata": {},
   "outputs": [],
   "source": [
    "# File Objects\n",
    "\n",
    "f1 = open('C:/Users/dell/Desktop/New folder/Untitled Folder/File Type/data.txt', 'w')"
   ]
  },
  {
   "cell_type": "code",
   "execution_count": 57,
   "id": "5650940d",
   "metadata": {},
   "outputs": [],
   "source": [
    "f1.write(\"Hello Gokila Bharathi \\n\")\n",
    "f1.write(\"Welcome to Python Programming \\n\")\n",
    "f1.close()"
   ]
  },
  {
   "cell_type": "code",
   "execution_count": 58,
   "id": "b46d12cd",
   "metadata": {},
   "outputs": [],
   "source": [
    "s1 = set(\"INDIA\")\n",
    "s2 = set([\"A\", \"B\", \"C\"])"
   ]
  },
  {
   "cell_type": "code",
   "execution_count": 62,
   "id": "48b8c623",
   "metadata": {},
   "outputs": [
    {
     "data": {
      "text/plain": [
       "{'A', 'D', 'I', 'N'}"
      ]
     },
     "execution_count": 62,
     "metadata": {},
     "output_type": "execute_result"
    }
   ],
   "source": [
    "s1"
   ]
  },
  {
   "cell_type": "code",
   "execution_count": 60,
   "id": "0bc6c99f",
   "metadata": {},
   "outputs": [
    {
     "data": {
      "text/plain": [
       "{'A', 'B', 'C'}"
      ]
     },
     "execution_count": 60,
     "metadata": {},
     "output_type": "execute_result"
    }
   ],
   "source": [
    "s2"
   ]
  },
  {
   "cell_type": "code",
   "execution_count": 61,
   "id": "dc09157a",
   "metadata": {},
   "outputs": [
    {
     "data": {
      "text/plain": [
       "({'A', 'D', 'I', 'N'}, {'A', 'B', 'C'})"
      ]
     },
     "execution_count": 61,
     "metadata": {},
     "output_type": "execute_result"
    }
   ],
   "source": [
    "s1, s2"
   ]
  },
  {
   "cell_type": "code",
   "execution_count": 63,
   "id": "243a8eaf",
   "metadata": {},
   "outputs": [
    {
     "data": {
      "text/plain": [
       "{'A'}"
      ]
     },
     "execution_count": 63,
     "metadata": {},
     "output_type": "execute_result"
    }
   ],
   "source": [
    "s1 & s2"
   ]
  },
  {
   "cell_type": "code",
   "execution_count": 64,
   "id": "4b6abbe8",
   "metadata": {},
   "outputs": [
    {
     "data": {
      "text/plain": [
       "{'A', 'B', 'C', 'D', 'I', 'N'}"
      ]
     },
     "execution_count": 64,
     "metadata": {},
     "output_type": "execute_result"
    }
   ],
   "source": [
    "s1 | s2"
   ]
  },
  {
   "cell_type": "code",
   "execution_count": 65,
   "id": "cdf1275f",
   "metadata": {},
   "outputs": [
    {
     "data": {
      "text/plain": [
       "{'D', 'I', 'N'}"
      ]
     },
     "execution_count": 65,
     "metadata": {},
     "output_type": "execute_result"
    }
   ],
   "source": [
    "s1 - s2"
   ]
  },
  {
   "cell_type": "code",
   "execution_count": 66,
   "id": "551752a4",
   "metadata": {},
   "outputs": [],
   "source": [
    "a = 7\n",
    "b = 2.0"
   ]
  },
  {
   "cell_type": "code",
   "execution_count": 67,
   "id": "54e93188",
   "metadata": {},
   "outputs": [],
   "source": [
    "r = a + b"
   ]
  },
  {
   "cell_type": "code",
   "execution_count": 68,
   "id": "1021739f",
   "metadata": {},
   "outputs": [
    {
     "data": {
      "text/plain": [
       "9.0"
      ]
     },
     "execution_count": 68,
     "metadata": {},
     "output_type": "execute_result"
    }
   ],
   "source": [
    "r"
   ]
  },
  {
   "cell_type": "code",
   "execution_count": 69,
   "id": "ae89e0dc",
   "metadata": {},
   "outputs": [
    {
     "data": {
      "text/plain": [
       "float"
      ]
     },
     "execution_count": 69,
     "metadata": {},
     "output_type": "execute_result"
    }
   ],
   "source": [
    "type(r)"
   ]
  },
  {
   "cell_type": "code",
   "execution_count": 70,
   "id": "abf52853",
   "metadata": {},
   "outputs": [
    {
     "data": {
      "text/plain": [
       "9"
      ]
     },
     "execution_count": 70,
     "metadata": {},
     "output_type": "execute_result"
    }
   ],
   "source": [
    "r = int(a + b)\n",
    "r"
   ]
  },
  {
   "cell_type": "code",
   "execution_count": 71,
   "id": "0adc505b",
   "metadata": {},
   "outputs": [
    {
     "data": {
      "text/plain": [
       "int"
      ]
     },
     "execution_count": 71,
     "metadata": {},
     "output_type": "execute_result"
    }
   ],
   "source": [
    "type(r)"
   ]
  },
  {
   "cell_type": "code",
   "execution_count": 73,
   "id": "84555bfd",
   "metadata": {},
   "outputs": [
    {
     "name": "stdout",
     "output_type": "stream",
     "text": [
      "9\n"
     ]
    }
   ],
   "source": [
    "# String & Int Addition\n",
    "a = 7\n",
    "b = '2'\n",
    "# c = a + b\n",
    "c = a + int(b)\n",
    "print(c)"
   ]
  },
  {
   "cell_type": "code",
   "execution_count": 74,
   "id": "938eaac2",
   "metadata": {},
   "outputs": [
    {
     "name": "stdout",
     "output_type": "stream",
     "text": [
      "5.0\n",
      "<class 'float'>\n"
     ]
    }
   ],
   "source": [
    "# Implicit Data Type Conversion\n",
    "a = 2\n",
    "b = 3.0\n",
    "c = a + b\n",
    "print(c)\n",
    "print(type(c)) # It will be a float data type"
   ]
  },
  {
   "cell_type": "code",
   "execution_count": 76,
   "id": "4af06a23",
   "metadata": {},
   "outputs": [
    {
     "name": "stdout",
     "output_type": "stream",
     "text": [
      "5\n",
      "<class 'int'>\n"
     ]
    }
   ],
   "source": [
    "# Explicit Data Type Conversion\n",
    "a = 2\n",
    "b = 3.0\n",
    "c = int(a + b)\n",
    "print(c)\n",
    "print(type(c)) # Here we are convertinf int data type"
   ]
  },
  {
   "cell_type": "code",
   "execution_count": 77,
   "id": "eaadd295",
   "metadata": {},
   "outputs": [
    {
     "name": "stdout",
     "output_type": "stream",
     "text": [
      "77\n",
      "<class 'int'>\n"
     ]
    }
   ],
   "source": [
    "a = 77.5\n",
    "int_a = int(a)\n",
    "print(int_a)\n",
    "print(type(int_a))"
   ]
  },
  {
   "cell_type": "code",
   "execution_count": 78,
   "id": "33fe436c",
   "metadata": {},
   "outputs": [
    {
     "name": "stdout",
     "output_type": "stream",
     "text": [
      "77.0\n",
      "<class 'float'>\n"
     ]
    }
   ],
   "source": [
    "a = 77\n",
    "float_a = float(a)\n",
    "print(float_a)\n",
    "print(type(float_a))"
   ]
  },
  {
   "cell_type": "code",
   "execution_count": 79,
   "id": "576080e3",
   "metadata": {},
   "outputs": [
    {
     "name": "stdout",
     "output_type": "stream",
     "text": [
      "(77+0j)\n",
      "<class 'complex'>\n"
     ]
    }
   ],
   "source": [
    "a = 77\n",
    "comp_a = complex(a)\n",
    "print(comp_a)\n",
    "print(type(comp_a))"
   ]
  },
  {
   "cell_type": "code",
   "execution_count": 80,
   "id": "2fdd07fe",
   "metadata": {},
   "outputs": [
    {
     "name": "stdout",
     "output_type": "stream",
     "text": [
      "77\n",
      "<class 'str'>\n"
     ]
    }
   ],
   "source": [
    "a = 77\n",
    "str_a = str(a)\n",
    "print(str_a)\n",
    "print(type(str_a))"
   ]
  },
  {
   "cell_type": "code",
   "execution_count": 81,
   "id": "36b444cb",
   "metadata": {},
   "outputs": [
    {
     "data": {
      "text/plain": [
       "{'A', 'D', 'I', 'N'}"
      ]
     },
     "execution_count": 81,
     "metadata": {},
     "output_type": "execute_result"
    }
   ],
   "source": [
    "st = \"INDIA\"\n",
    "tup1 = tuple(s1)\n",
    "s1"
   ]
  },
  {
   "cell_type": "code",
   "execution_count": 82,
   "id": "9d5f1e5e",
   "metadata": {},
   "outputs": [
    {
     "data": {
      "text/plain": [
       "['I', 'N', 'D', 'I', 'A']"
      ]
     },
     "execution_count": 82,
     "metadata": {},
     "output_type": "execute_result"
    }
   ],
   "source": [
    "st = \"INDIA\"\n",
    "ls1 = list(st)\n",
    "ls1"
   ]
  },
  {
   "cell_type": "code",
   "execution_count": 83,
   "id": "aff2ece2",
   "metadata": {},
   "outputs": [
    {
     "data": {
      "text/plain": [
       "['John', 'Marry', 'Mark', 'Peter']"
      ]
     },
     "execution_count": 83,
     "metadata": {},
     "output_type": "execute_result"
    }
   ],
   "source": [
    "tup2 = (\"John\", \"Marry\", \"Mark\", \"Peter\")\n",
    "ls2 = list(tup2)\n",
    "ls2"
   ]
  },
  {
   "cell_type": "code",
   "execution_count": 84,
   "id": "e13e982b",
   "metadata": {},
   "outputs": [
    {
     "name": "stdout",
     "output_type": "stream",
     "text": [
      "0b1010\n",
      "0xa\n",
      "0o12\n"
     ]
    }
   ],
   "source": [
    "a = 10\n",
    "_bin = bin(a)\n",
    "_hex = hex(a)\n",
    "_oct = oct(a)\n",
    "print(_bin)\n",
    "print(_hex)\n",
    "print(_oct)"
   ]
  },
  {
   "cell_type": "code",
   "execution_count": 86,
   "id": "c0b6bf5c",
   "metadata": {},
   "outputs": [
    {
     "data": {
      "text/plain": [
       "'L'"
      ]
     },
     "execution_count": 86,
     "metadata": {},
     "output_type": "execute_result"
    }
   ],
   "source": [
    "n1 = 76\n",
    "chr(n1)"
   ]
  },
  {
   "cell_type": "code",
   "execution_count": 88,
   "id": "92ffda95",
   "metadata": {},
   "outputs": [
    {
     "data": {
      "text/plain": [
       "'d'"
      ]
     },
     "execution_count": 88,
     "metadata": {},
     "output_type": "execute_result"
    }
   ],
   "source": [
    "n2 = 100\n",
    "chr(n2)"
   ]
  },
  {
   "cell_type": "code",
   "execution_count": 89,
   "id": "e4699bbf",
   "metadata": {},
   "outputs": [
    {
     "data": {
      "text/plain": [
       "86"
      ]
     },
     "execution_count": 89,
     "metadata": {},
     "output_type": "execute_result"
    }
   ],
   "source": [
    "st = \"V\"\n",
    "ord(st)"
   ]
  },
  {
   "cell_type": "code",
   "execution_count": 90,
   "id": "2d350e09",
   "metadata": {},
   "outputs": [
    {
     "data": {
      "text/plain": [
       "55"
      ]
     },
     "execution_count": 90,
     "metadata": {},
     "output_type": "execute_result"
    }
   ],
   "source": [
    "st = '7'\n",
    "ord(st)"
   ]
  },
  {
   "cell_type": "code",
   "execution_count": null,
   "id": "3f1cbe17",
   "metadata": {},
   "outputs": [],
   "source": [
    " "
   ]
  }
 ],
 "metadata": {
  "kernelspec": {
   "display_name": "Python 3 (ipykernel)",
   "language": "python",
   "name": "python3"
  },
  "language_info": {
   "codemirror_mode": {
    "name": "ipython",
    "version": 3
   },
   "file_extension": ".py",
   "mimetype": "text/x-python",
   "name": "python",
   "nbconvert_exporter": "python",
   "pygments_lexer": "ipython3",
   "version": "3.10.9"
  }
 },
 "nbformat": 4,
 "nbformat_minor": 5
}
