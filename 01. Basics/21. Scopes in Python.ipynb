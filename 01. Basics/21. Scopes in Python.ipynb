{
 "cells": [
  {
   "cell_type": "code",
   "execution_count": 1,
   "metadata": {},
   "outputs": [
    {
     "name": "stdout",
     "output_type": "stream",
     "text": [
      "Python Tutorial\n"
     ]
    }
   ],
   "source": [
    "# Local Scope\n",
    "def fun():\n",
    "    s = \"Python Tutorial\"\n",
    "    print(s)\n",
    "\n",
    "\n",
    "fun()\n"
   ]
  },
  {
   "cell_type": "code",
   "execution_count": 2,
   "metadata": {},
   "outputs": [
    {
     "name": "stdout",
     "output_type": "stream",
     "text": [
      "Python Tutorial\n"
     ]
    },
    {
     "ename": "NameError",
     "evalue": "name 's1' is not defined",
     "output_type": "error",
     "traceback": [
      "\u001b[1;31m---------------------------------------------------------------------------\u001b[0m",
      "\u001b[1;31mNameError\u001b[0m                                 Traceback (most recent call last)",
      "Cell \u001b[1;32mIn[2], line 9\u001b[0m\n\u001b[0;32m      4\u001b[0m     \u001b[39mprint\u001b[39m(s1)\n\u001b[0;32m      7\u001b[0m fun1()\n\u001b[1;32m----> 9\u001b[0m \u001b[39mprint\u001b[39m(s1)\n",
      "\u001b[1;31mNameError\u001b[0m: name 's1' is not defined"
     ]
    }
   ],
   "source": [
    "# Try to access it outside of the function\n",
    "def fun1():\n",
    "    s1 = \"Python Tutorial\"\n",
    "    print(s1)\n",
    "\n",
    "\n",
    "fun1()\n",
    "\n",
    "print(s1)\n"
   ]
  },
  {
   "cell_type": "code",
   "execution_count": 4,
   "metadata": {},
   "outputs": [
    {
     "name": "stdout",
     "output_type": "stream",
     "text": [
      "Python Tutorial\n"
     ]
    }
   ],
   "source": [
    "# Function Inside another Function\n",
    "\n",
    "def fun():\n",
    "    s = \"Python Tutorial\"\n",
    "\n",
    "    def inFun():\n",
    "        print(s)\n",
    "    inFun()\n",
    "\n",
    "\n",
    "fun()\n"
   ]
  },
  {
   "cell_type": "code",
   "execution_count": 11,
   "metadata": {},
   "outputs": [
    {
     "name": "stdout",
     "output_type": "stream",
     "text": [
      "This is a outer message\n",
      "This is a outer message\n",
      "This is a global message\n"
     ]
    }
   ],
   "source": [
    "msg = \"This is a global message\"\n",
    "\n",
    "\n",
    "def outFun():\n",
    "    msg = \"This is a outer message\"\n",
    "\n",
    "    def inFun():\n",
    "        # msg = \"This is a Inner Message\"\n",
    "        nonlocal msg\n",
    "        print(msg)\n",
    "\n",
    "    inFun()\n",
    "\n",
    "    print(msg)\n",
    "\n",
    "\n",
    "outFun()\n",
    "\n",
    "print(msg)\n"
   ]
  },
  {
   "cell_type": "code",
   "execution_count": 14,
   "metadata": {},
   "outputs": [
    {
     "name": "stdout",
     "output_type": "stream",
     "text": [
      "Welcome to Python\n",
      "Welcome to Python\n"
     ]
    }
   ],
   "source": [
    "# Global Scope\n",
    "msg = \"Welcome to Python\"\n",
    "\n",
    "\n",
    "def fun():\n",
    "    print(msg)\n",
    "\n",
    "\n",
    "fun()\n",
    "\n",
    "print(msg)\n"
   ]
  },
  {
   "cell_type": "code",
   "execution_count": 16,
   "metadata": {},
   "outputs": [
    {
     "name": "stdout",
     "output_type": "stream",
     "text": [
      "This is the inside function Message\n",
      "Welcome to Python Programming\n"
     ]
    }
   ],
   "source": [
    "msg = \"Welcome to Python Programming\"\n",
    "\n",
    "\n",
    "def fun():\n",
    "    msg = \"This is the inside function Message\"\n",
    "    print(msg)\n",
    "\n",
    "\n",
    "fun()\n",
    "print(msg)\n"
   ]
  },
  {
   "cell_type": "code",
   "execution_count": 17,
   "metadata": {},
   "outputs": [
    {
     "name": "stdout",
     "output_type": "stream",
     "text": [
      "This is Global Message\n",
      "This is Global Message\n"
     ]
    }
   ],
   "source": [
    "# Using Global Keyword\n",
    "\n",
    "def fun():\n",
    "    global msg\n",
    "    msg = \"This is Global Message\"\n",
    "    print(msg)\n",
    "\n",
    "\n",
    "fun()\n",
    "print(msg)\n"
   ]
  },
  {
   "cell_type": "code",
   "execution_count": 19,
   "metadata": {},
   "outputs": [
    {
     "name": "stdout",
     "output_type": "stream",
     "text": [
      "India\n",
      "India\n"
     ]
    }
   ],
   "source": [
    "a = \"France\"\n",
    "\n",
    "\n",
    "def myCountry():\n",
    "    global a\n",
    "    a = \"India\"\n",
    "    print(a)\n",
    "\n",
    "\n",
    "myCountry()\n",
    "\n",
    "print(a)\n"
   ]
  },
  {
   "cell_type": "code",
   "execution_count": 23,
   "metadata": {},
   "outputs": [
    {
     "name": "stdout",
     "output_type": "stream",
     "text": [
      "3.141592653589793\n"
     ]
    }
   ],
   "source": [
    "# Buil-in Scope\n",
    "from math import pi\n",
    "\n",
    "# pi = 'This is a global pi variable'\n",
    "\n",
    "\n",
    "def outer():\n",
    "    # pi = 'Outer Variable pi'\n",
    "\n",
    "    def inner():\n",
    "        # pi = 'Inner Variable pi'\n",
    "        print(pi)\n",
    "    inner()\n",
    "\n",
    "\n",
    "outer()\n"
   ]
  }
 ],
 "metadata": {
  "kernelspec": {
   "display_name": "Python 3",
   "language": "python",
   "name": "python3"
  },
  "language_info": {
   "codemirror_mode": {
    "name": "ipython",
    "version": 3
   },
   "file_extension": ".py",
   "mimetype": "text/x-python",
   "name": "python",
   "nbconvert_exporter": "python",
   "pygments_lexer": "ipython3",
   "version": "3.11.2"
  },
  "orig_nbformat": 4
 },
 "nbformat": 4,
 "nbformat_minor": 2
}
